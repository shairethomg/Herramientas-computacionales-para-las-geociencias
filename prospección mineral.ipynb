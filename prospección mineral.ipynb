{
  "cells": [
    {
      "cell_type": "code",
      "execution_count": null,
      "metadata": {
        "id": "-1FOvpZ8I2JJ"
      },
      "outputs": [],
      "source": [
        "# Elaborado por:\n",
        "# Ana Mantilla : anagmd2019@gmail.com\n",
        "# Paul Goyes : goyes.yesid@gmail.com"
      ]
    },
    {
      "cell_type": "code",
      "execution_count": null,
      "metadata": {
        "id": "xeSTpxgaO3VU"
      },
      "outputs": [],
      "source": [
        "# Importar las librerías\n",
        "\n",
        "import pandas as pd #usada para cargar los datos delimitados por comas (.csv)\n",
        "import numpy as np #usada para extraer los valores de píxel del ráster en una matriz\n",
        "import matplotlib.pyplot as plt #usada para gráficar\n",
        "import tensorflow as tf #usada para crear el modelo de redes neuronales artificiales\n",
        "from tensorflow import keras\n",
        "from tensorflow.keras.models import Model"
      ]
    },
    {
      "cell_type": "code",
      "execution_count": null,
      "metadata": {
        "colab": {
          "base_uri": "https://localhost:8080/"
        },
        "id": "5EbDsA4PO3q9",
        "outputId": "b0afbac5-4944-4b00-9cdf-2d6f5d1987e8"
      },
      "outputs": [
        {
          "output_type": "stream",
          "name": "stdout",
          "text": [
            "Mounted at /content/drive\n"
          ]
        }
      ],
      "source": [
        "from google.colab import drive\n",
        "drive.mount('/content/drive')"
      ]
    },
    {
      "cell_type": "code",
      "execution_count": null,
      "metadata": {
        "id": "UBsHKIcxq4bp"
      },
      "outputs": [],
      "source": [
        "#Importar los datos de la tarea pretexto. En este caso corresponde a las 5 categorías de roca\n",
        "\n",
        "df=pd.read_csv('/content/drive/MyDrive/STG/Redes neuronales/03_Train_Pretext.csv', sep =',')"
      ]
    },
    {
      "cell_type": "code",
      "execution_count": null,
      "metadata": {
        "id": "LC4hRCYvV3oj",
        "colab": {
          "base_uri": "https://localhost:8080/"
        },
        "outputId": "d8a25e25-2743-41c1-8250-e82fdcc3ae2a"
      },
      "outputs": [
        {
          "output_type": "execute_result",
          "data": {
            "text/plain": [
              "(550, 10)"
            ]
          },
          "metadata": {},
          "execution_count": 5
        }
      ],
      "source": [
        "df.shape"
      ]
    },
    {
      "cell_type": "code",
      "execution_count": null,
      "metadata": {
        "id": "U-Y9hx2P7oON",
        "colab": {
          "base_uri": "https://localhost:8080/",
          "height": 424
        },
        "outputId": "c852fedf-01a5-4b9d-abe0-69bd035aee0f"
      },
      "outputs": [
        {
          "output_type": "execute_result",
          "data": {
            "text/plain": [
              "     ETIQUETA              N              E      PC1      PC2      PC3  \\\n",
              "0         0.0  931025.730914  288492.570361 -1.02012 -0.17439 -0.16226   \n",
              "1         0.0  964311.305318  263743.764808 -0.26910 -0.65331 -0.74518   \n",
              "2         0.0  973292.554673  266394.875168 -0.41238 -0.76499  0.74260   \n",
              "3         0.0  955304.347855  258976.120807 -0.64912 -0.66660  1.97834   \n",
              "4         0.0  922002.137068  288413.097736 -0.24336 -0.28589  0.08575   \n",
              "..        ...            ...            ...      ...      ...      ...   \n",
              "545       4.0  917662.989748  250258.918142 -1.52403  0.73203 -0.83071   \n",
              "546       4.0  906649.725597  240523.526465  0.65289 -1.20343  0.27954   \n",
              "547       4.0  860623.840889  268361.389079 -0.74277 -0.32283  0.67918   \n",
              "548       4.0  849285.517839  293033.517983 -0.57743 -0.50222  1.17196   \n",
              "549       4.0  905630.521013  254705.569084 -1.47529  0.11307 -0.54116   \n",
              "\n",
              "         PC4      PC5      PC6      PC7  \n",
              "0   -0.22233 -0.06813 -0.22757  0.07461  \n",
              "1   -1.23854 -0.02956 -0.04558  0.41562  \n",
              "2   -0.76124  0.01800 -0.19724  0.81571  \n",
              "3   -1.45564 -0.47626  0.04645  0.45384  \n",
              "4    1.28610  0.71963 -0.62248  0.20069  \n",
              "..       ...      ...      ...      ...  \n",
              "545  0.05702  0.19485 -0.17497  0.08761  \n",
              "546  1.64946 -1.58825 -0.11102  0.37154  \n",
              "547  1.31917 -0.67747  0.47439  0.18307  \n",
              "548  1.02747  0.52522  0.10258  0.14146  \n",
              "549  1.24930  0.05163  0.22770 -0.08558  \n",
              "\n",
              "[550 rows x 10 columns]"
            ],
            "text/html": [
              "\n",
              "  <div id=\"df-ed58e039-3538-4905-bb79-291298e86aaa\" class=\"colab-df-container\">\n",
              "    <div>\n",
              "<style scoped>\n",
              "    .dataframe tbody tr th:only-of-type {\n",
              "        vertical-align: middle;\n",
              "    }\n",
              "\n",
              "    .dataframe tbody tr th {\n",
              "        vertical-align: top;\n",
              "    }\n",
              "\n",
              "    .dataframe thead th {\n",
              "        text-align: right;\n",
              "    }\n",
              "</style>\n",
              "<table border=\"1\" class=\"dataframe\">\n",
              "  <thead>\n",
              "    <tr style=\"text-align: right;\">\n",
              "      <th></th>\n",
              "      <th>ETIQUETA</th>\n",
              "      <th>N</th>\n",
              "      <th>E</th>\n",
              "      <th>PC1</th>\n",
              "      <th>PC2</th>\n",
              "      <th>PC3</th>\n",
              "      <th>PC4</th>\n",
              "      <th>PC5</th>\n",
              "      <th>PC6</th>\n",
              "      <th>PC7</th>\n",
              "    </tr>\n",
              "  </thead>\n",
              "  <tbody>\n",
              "    <tr>\n",
              "      <th>0</th>\n",
              "      <td>0.0</td>\n",
              "      <td>931025.730914</td>\n",
              "      <td>288492.570361</td>\n",
              "      <td>-1.02012</td>\n",
              "      <td>-0.17439</td>\n",
              "      <td>-0.16226</td>\n",
              "      <td>-0.22233</td>\n",
              "      <td>-0.06813</td>\n",
              "      <td>-0.22757</td>\n",
              "      <td>0.07461</td>\n",
              "    </tr>\n",
              "    <tr>\n",
              "      <th>1</th>\n",
              "      <td>0.0</td>\n",
              "      <td>964311.305318</td>\n",
              "      <td>263743.764808</td>\n",
              "      <td>-0.26910</td>\n",
              "      <td>-0.65331</td>\n",
              "      <td>-0.74518</td>\n",
              "      <td>-1.23854</td>\n",
              "      <td>-0.02956</td>\n",
              "      <td>-0.04558</td>\n",
              "      <td>0.41562</td>\n",
              "    </tr>\n",
              "    <tr>\n",
              "      <th>2</th>\n",
              "      <td>0.0</td>\n",
              "      <td>973292.554673</td>\n",
              "      <td>266394.875168</td>\n",
              "      <td>-0.41238</td>\n",
              "      <td>-0.76499</td>\n",
              "      <td>0.74260</td>\n",
              "      <td>-0.76124</td>\n",
              "      <td>0.01800</td>\n",
              "      <td>-0.19724</td>\n",
              "      <td>0.81571</td>\n",
              "    </tr>\n",
              "    <tr>\n",
              "      <th>3</th>\n",
              "      <td>0.0</td>\n",
              "      <td>955304.347855</td>\n",
              "      <td>258976.120807</td>\n",
              "      <td>-0.64912</td>\n",
              "      <td>-0.66660</td>\n",
              "      <td>1.97834</td>\n",
              "      <td>-1.45564</td>\n",
              "      <td>-0.47626</td>\n",
              "      <td>0.04645</td>\n",
              "      <td>0.45384</td>\n",
              "    </tr>\n",
              "    <tr>\n",
              "      <th>4</th>\n",
              "      <td>0.0</td>\n",
              "      <td>922002.137068</td>\n",
              "      <td>288413.097736</td>\n",
              "      <td>-0.24336</td>\n",
              "      <td>-0.28589</td>\n",
              "      <td>0.08575</td>\n",
              "      <td>1.28610</td>\n",
              "      <td>0.71963</td>\n",
              "      <td>-0.62248</td>\n",
              "      <td>0.20069</td>\n",
              "    </tr>\n",
              "    <tr>\n",
              "      <th>...</th>\n",
              "      <td>...</td>\n",
              "      <td>...</td>\n",
              "      <td>...</td>\n",
              "      <td>...</td>\n",
              "      <td>...</td>\n",
              "      <td>...</td>\n",
              "      <td>...</td>\n",
              "      <td>...</td>\n",
              "      <td>...</td>\n",
              "      <td>...</td>\n",
              "    </tr>\n",
              "    <tr>\n",
              "      <th>545</th>\n",
              "      <td>4.0</td>\n",
              "      <td>917662.989748</td>\n",
              "      <td>250258.918142</td>\n",
              "      <td>-1.52403</td>\n",
              "      <td>0.73203</td>\n",
              "      <td>-0.83071</td>\n",
              "      <td>0.05702</td>\n",
              "      <td>0.19485</td>\n",
              "      <td>-0.17497</td>\n",
              "      <td>0.08761</td>\n",
              "    </tr>\n",
              "    <tr>\n",
              "      <th>546</th>\n",
              "      <td>4.0</td>\n",
              "      <td>906649.725597</td>\n",
              "      <td>240523.526465</td>\n",
              "      <td>0.65289</td>\n",
              "      <td>-1.20343</td>\n",
              "      <td>0.27954</td>\n",
              "      <td>1.64946</td>\n",
              "      <td>-1.58825</td>\n",
              "      <td>-0.11102</td>\n",
              "      <td>0.37154</td>\n",
              "    </tr>\n",
              "    <tr>\n",
              "      <th>547</th>\n",
              "      <td>4.0</td>\n",
              "      <td>860623.840889</td>\n",
              "      <td>268361.389079</td>\n",
              "      <td>-0.74277</td>\n",
              "      <td>-0.32283</td>\n",
              "      <td>0.67918</td>\n",
              "      <td>1.31917</td>\n",
              "      <td>-0.67747</td>\n",
              "      <td>0.47439</td>\n",
              "      <td>0.18307</td>\n",
              "    </tr>\n",
              "    <tr>\n",
              "      <th>548</th>\n",
              "      <td>4.0</td>\n",
              "      <td>849285.517839</td>\n",
              "      <td>293033.517983</td>\n",
              "      <td>-0.57743</td>\n",
              "      <td>-0.50222</td>\n",
              "      <td>1.17196</td>\n",
              "      <td>1.02747</td>\n",
              "      <td>0.52522</td>\n",
              "      <td>0.10258</td>\n",
              "      <td>0.14146</td>\n",
              "    </tr>\n",
              "    <tr>\n",
              "      <th>549</th>\n",
              "      <td>4.0</td>\n",
              "      <td>905630.521013</td>\n",
              "      <td>254705.569084</td>\n",
              "      <td>-1.47529</td>\n",
              "      <td>0.11307</td>\n",
              "      <td>-0.54116</td>\n",
              "      <td>1.24930</td>\n",
              "      <td>0.05163</td>\n",
              "      <td>0.22770</td>\n",
              "      <td>-0.08558</td>\n",
              "    </tr>\n",
              "  </tbody>\n",
              "</table>\n",
              "<p>550 rows × 10 columns</p>\n",
              "</div>\n",
              "    <div class=\"colab-df-buttons\">\n",
              "\n",
              "  <div class=\"colab-df-container\">\n",
              "    <button class=\"colab-df-convert\" onclick=\"convertToInteractive('df-ed58e039-3538-4905-bb79-291298e86aaa')\"\n",
              "            title=\"Convert this dataframe to an interactive table.\"\n",
              "            style=\"display:none;\">\n",
              "\n",
              "  <svg xmlns=\"http://www.w3.org/2000/svg\" height=\"24px\" viewBox=\"0 -960 960 960\">\n",
              "    <path d=\"M120-120v-720h720v720H120Zm60-500h600v-160H180v160Zm220 220h160v-160H400v160Zm0 220h160v-160H400v160ZM180-400h160v-160H180v160Zm440 0h160v-160H620v160ZM180-180h160v-160H180v160Zm440 0h160v-160H620v160Z\"/>\n",
              "  </svg>\n",
              "    </button>\n",
              "\n",
              "  <style>\n",
              "    .colab-df-container {\n",
              "      display:flex;\n",
              "      gap: 12px;\n",
              "    }\n",
              "\n",
              "    .colab-df-convert {\n",
              "      background-color: #E8F0FE;\n",
              "      border: none;\n",
              "      border-radius: 50%;\n",
              "      cursor: pointer;\n",
              "      display: none;\n",
              "      fill: #1967D2;\n",
              "      height: 32px;\n",
              "      padding: 0 0 0 0;\n",
              "      width: 32px;\n",
              "    }\n",
              "\n",
              "    .colab-df-convert:hover {\n",
              "      background-color: #E2EBFA;\n",
              "      box-shadow: 0px 1px 2px rgba(60, 64, 67, 0.3), 0px 1px 3px 1px rgba(60, 64, 67, 0.15);\n",
              "      fill: #174EA6;\n",
              "    }\n",
              "\n",
              "    .colab-df-buttons div {\n",
              "      margin-bottom: 4px;\n",
              "    }\n",
              "\n",
              "    [theme=dark] .colab-df-convert {\n",
              "      background-color: #3B4455;\n",
              "      fill: #D2E3FC;\n",
              "    }\n",
              "\n",
              "    [theme=dark] .colab-df-convert:hover {\n",
              "      background-color: #434B5C;\n",
              "      box-shadow: 0px 1px 3px 1px rgba(0, 0, 0, 0.15);\n",
              "      filter: drop-shadow(0px 1px 2px rgba(0, 0, 0, 0.3));\n",
              "      fill: #FFFFFF;\n",
              "    }\n",
              "  </style>\n",
              "\n",
              "    <script>\n",
              "      const buttonEl =\n",
              "        document.querySelector('#df-ed58e039-3538-4905-bb79-291298e86aaa button.colab-df-convert');\n",
              "      buttonEl.style.display =\n",
              "        google.colab.kernel.accessAllowed ? 'block' : 'none';\n",
              "\n",
              "      async function convertToInteractive(key) {\n",
              "        const element = document.querySelector('#df-ed58e039-3538-4905-bb79-291298e86aaa');\n",
              "        const dataTable =\n",
              "          await google.colab.kernel.invokeFunction('convertToInteractive',\n",
              "                                                    [key], {});\n",
              "        if (!dataTable) return;\n",
              "\n",
              "        const docLinkHtml = 'Like what you see? Visit the ' +\n",
              "          '<a target=\"_blank\" href=https://colab.research.google.com/notebooks/data_table.ipynb>data table notebook</a>'\n",
              "          + ' to learn more about interactive tables.';\n",
              "        element.innerHTML = '';\n",
              "        dataTable['output_type'] = 'display_data';\n",
              "        await google.colab.output.renderOutput(dataTable, element);\n",
              "        const docLink = document.createElement('div');\n",
              "        docLink.innerHTML = docLinkHtml;\n",
              "        element.appendChild(docLink);\n",
              "      }\n",
              "    </script>\n",
              "  </div>\n",
              "\n",
              "\n",
              "<div id=\"df-5a5664ac-a914-4f90-bfeb-290c5305a714\">\n",
              "  <button class=\"colab-df-quickchart\" onclick=\"quickchart('df-5a5664ac-a914-4f90-bfeb-290c5305a714')\"\n",
              "            title=\"Suggest charts\"\n",
              "            style=\"display:none;\">\n",
              "\n",
              "<svg xmlns=\"http://www.w3.org/2000/svg\" height=\"24px\"viewBox=\"0 0 24 24\"\n",
              "     width=\"24px\">\n",
              "    <g>\n",
              "        <path d=\"M19 3H5c-1.1 0-2 .9-2 2v14c0 1.1.9 2 2 2h14c1.1 0 2-.9 2-2V5c0-1.1-.9-2-2-2zM9 17H7v-7h2v7zm4 0h-2V7h2v10zm4 0h-2v-4h2v4z\"/>\n",
              "    </g>\n",
              "</svg>\n",
              "  </button>\n",
              "\n",
              "<style>\n",
              "  .colab-df-quickchart {\n",
              "      --bg-color: #E8F0FE;\n",
              "      --fill-color: #1967D2;\n",
              "      --hover-bg-color: #E2EBFA;\n",
              "      --hover-fill-color: #174EA6;\n",
              "      --disabled-fill-color: #AAA;\n",
              "      --disabled-bg-color: #DDD;\n",
              "  }\n",
              "\n",
              "  [theme=dark] .colab-df-quickchart {\n",
              "      --bg-color: #3B4455;\n",
              "      --fill-color: #D2E3FC;\n",
              "      --hover-bg-color: #434B5C;\n",
              "      --hover-fill-color: #FFFFFF;\n",
              "      --disabled-bg-color: #3B4455;\n",
              "      --disabled-fill-color: #666;\n",
              "  }\n",
              "\n",
              "  .colab-df-quickchart {\n",
              "    background-color: var(--bg-color);\n",
              "    border: none;\n",
              "    border-radius: 50%;\n",
              "    cursor: pointer;\n",
              "    display: none;\n",
              "    fill: var(--fill-color);\n",
              "    height: 32px;\n",
              "    padding: 0;\n",
              "    width: 32px;\n",
              "  }\n",
              "\n",
              "  .colab-df-quickchart:hover {\n",
              "    background-color: var(--hover-bg-color);\n",
              "    box-shadow: 0 1px 2px rgba(60, 64, 67, 0.3), 0 1px 3px 1px rgba(60, 64, 67, 0.15);\n",
              "    fill: var(--button-hover-fill-color);\n",
              "  }\n",
              "\n",
              "  .colab-df-quickchart-complete:disabled,\n",
              "  .colab-df-quickchart-complete:disabled:hover {\n",
              "    background-color: var(--disabled-bg-color);\n",
              "    fill: var(--disabled-fill-color);\n",
              "    box-shadow: none;\n",
              "  }\n",
              "\n",
              "  .colab-df-spinner {\n",
              "    border: 2px solid var(--fill-color);\n",
              "    border-color: transparent;\n",
              "    border-bottom-color: var(--fill-color);\n",
              "    animation:\n",
              "      spin 1s steps(1) infinite;\n",
              "  }\n",
              "\n",
              "  @keyframes spin {\n",
              "    0% {\n",
              "      border-color: transparent;\n",
              "      border-bottom-color: var(--fill-color);\n",
              "      border-left-color: var(--fill-color);\n",
              "    }\n",
              "    20% {\n",
              "      border-color: transparent;\n",
              "      border-left-color: var(--fill-color);\n",
              "      border-top-color: var(--fill-color);\n",
              "    }\n",
              "    30% {\n",
              "      border-color: transparent;\n",
              "      border-left-color: var(--fill-color);\n",
              "      border-top-color: var(--fill-color);\n",
              "      border-right-color: var(--fill-color);\n",
              "    }\n",
              "    40% {\n",
              "      border-color: transparent;\n",
              "      border-right-color: var(--fill-color);\n",
              "      border-top-color: var(--fill-color);\n",
              "    }\n",
              "    60% {\n",
              "      border-color: transparent;\n",
              "      border-right-color: var(--fill-color);\n",
              "    }\n",
              "    80% {\n",
              "      border-color: transparent;\n",
              "      border-right-color: var(--fill-color);\n",
              "      border-bottom-color: var(--fill-color);\n",
              "    }\n",
              "    90% {\n",
              "      border-color: transparent;\n",
              "      border-bottom-color: var(--fill-color);\n",
              "    }\n",
              "  }\n",
              "</style>\n",
              "\n",
              "  <script>\n",
              "    async function quickchart(key) {\n",
              "      const quickchartButtonEl =\n",
              "        document.querySelector('#' + key + ' button');\n",
              "      quickchartButtonEl.disabled = true;  // To prevent multiple clicks.\n",
              "      quickchartButtonEl.classList.add('colab-df-spinner');\n",
              "      try {\n",
              "        const charts = await google.colab.kernel.invokeFunction(\n",
              "            'suggestCharts', [key], {});\n",
              "      } catch (error) {\n",
              "        console.error('Error during call to suggestCharts:', error);\n",
              "      }\n",
              "      quickchartButtonEl.classList.remove('colab-df-spinner');\n",
              "      quickchartButtonEl.classList.add('colab-df-quickchart-complete');\n",
              "    }\n",
              "    (() => {\n",
              "      let quickchartButtonEl =\n",
              "        document.querySelector('#df-5a5664ac-a914-4f90-bfeb-290c5305a714 button');\n",
              "      quickchartButtonEl.style.display =\n",
              "        google.colab.kernel.accessAllowed ? 'block' : 'none';\n",
              "    })();\n",
              "  </script>\n",
              "</div>\n",
              "\n",
              "  <div id=\"id_0a1bbea6-40bc-4de9-8273-4519e735aeaa\">\n",
              "    <style>\n",
              "      .colab-df-generate {\n",
              "        background-color: #E8F0FE;\n",
              "        border: none;\n",
              "        border-radius: 50%;\n",
              "        cursor: pointer;\n",
              "        display: none;\n",
              "        fill: #1967D2;\n",
              "        height: 32px;\n",
              "        padding: 0 0 0 0;\n",
              "        width: 32px;\n",
              "      }\n",
              "\n",
              "      .colab-df-generate:hover {\n",
              "        background-color: #E2EBFA;\n",
              "        box-shadow: 0px 1px 2px rgba(60, 64, 67, 0.3), 0px 1px 3px 1px rgba(60, 64, 67, 0.15);\n",
              "        fill: #174EA6;\n",
              "      }\n",
              "\n",
              "      [theme=dark] .colab-df-generate {\n",
              "        background-color: #3B4455;\n",
              "        fill: #D2E3FC;\n",
              "      }\n",
              "\n",
              "      [theme=dark] .colab-df-generate:hover {\n",
              "        background-color: #434B5C;\n",
              "        box-shadow: 0px 1px 3px 1px rgba(0, 0, 0, 0.15);\n",
              "        filter: drop-shadow(0px 1px 2px rgba(0, 0, 0, 0.3));\n",
              "        fill: #FFFFFF;\n",
              "      }\n",
              "    </style>\n",
              "    <button class=\"colab-df-generate\" onclick=\"generateWithVariable('df')\"\n",
              "            title=\"Generate code using this dataframe.\"\n",
              "            style=\"display:none;\">\n",
              "\n",
              "  <svg xmlns=\"http://www.w3.org/2000/svg\" height=\"24px\"viewBox=\"0 0 24 24\"\n",
              "       width=\"24px\">\n",
              "    <path d=\"M7,19H8.4L18.45,9,17,7.55,7,17.6ZM5,21V16.75L18.45,3.32a2,2,0,0,1,2.83,0l1.4,1.43a1.91,1.91,0,0,1,.58,1.4,1.91,1.91,0,0,1-.58,1.4L9.25,21ZM18.45,9,17,7.55Zm-12,3A5.31,5.31,0,0,0,4.9,8.1,5.31,5.31,0,0,0,1,6.5,5.31,5.31,0,0,0,4.9,4.9,5.31,5.31,0,0,0,6.5,1,5.31,5.31,0,0,0,8.1,4.9,5.31,5.31,0,0,0,12,6.5,5.46,5.46,0,0,0,6.5,12Z\"/>\n",
              "  </svg>\n",
              "    </button>\n",
              "    <script>\n",
              "      (() => {\n",
              "      const buttonEl =\n",
              "        document.querySelector('#id_0a1bbea6-40bc-4de9-8273-4519e735aeaa button.colab-df-generate');\n",
              "      buttonEl.style.display =\n",
              "        google.colab.kernel.accessAllowed ? 'block' : 'none';\n",
              "\n",
              "      buttonEl.onclick = () => {\n",
              "        google.colab.notebook.generateWithVariable('df');\n",
              "      }\n",
              "      })();\n",
              "    </script>\n",
              "  </div>\n",
              "\n",
              "    </div>\n",
              "  </div>\n"
            ],
            "application/vnd.google.colaboratory.intrinsic+json": {
              "type": "dataframe",
              "variable_name": "df",
              "summary": "{\n  \"name\": \"df\",\n  \"rows\": 550,\n  \"fields\": [\n    {\n      \"column\": \"ETIQUETA\",\n      \"properties\": {\n        \"dtype\": \"number\",\n        \"std\": 1.4671994696774617,\n        \"min\": 0.0,\n        \"max\": 4.0,\n        \"num_unique_values\": 5,\n        \"samples\": [\n          1.0,\n          4.0,\n          2.0\n        ],\n        \"semantic_type\": \"\",\n        \"description\": \"\"\n      }\n    },\n    {\n      \"column\": \"N\",\n      \"properties\": {\n        \"dtype\": \"number\",\n        \"std\": 34027.14419636455,\n        \"min\": 845646.2003519998,\n        \"max\": 977186.189468,\n        \"num_unique_values\": 550,\n        \"samples\": [\n          871600.52255,\n          952990.007696,\n          864892.156023\n        ],\n        \"semantic_type\": \"\",\n        \"description\": \"\"\n      }\n    },\n    {\n      \"column\": \"E\",\n      \"properties\": {\n        \"dtype\": \"number\",\n        \"std\": 47110.47688440085,\n        \"min\": 159103.319231,\n        \"max\": 300462.818728,\n        \"num_unique_values\": 550,\n        \"samples\": [\n          199250.996978,\n          174512.665184,\n          208748.788483\n        ],\n        \"semantic_type\": \"\",\n        \"description\": \"\"\n      }\n    },\n    {\n      \"column\": \"PC1\",\n      \"properties\": {\n        \"dtype\": \"number\",\n        \"std\": 1.7658748881687525,\n        \"min\": -4.50973,\n        \"max\": 7.76741,\n        \"num_unique_values\": 494,\n        \"samples\": [\n          0.63397,\n          -0.31026,\n          -0.20848\n        ],\n        \"semantic_type\": \"\",\n        \"description\": \"\"\n      }\n    },\n    {\n      \"column\": \"PC2\",\n      \"properties\": {\n        \"dtype\": \"number\",\n        \"std\": 0.9249501393201036,\n        \"min\": -1.46781,\n        \"max\": 6.63538,\n        \"num_unique_values\": 494,\n        \"samples\": [\n          -0.64285,\n          0.41064,\n          0.37007\n        ],\n        \"semantic_type\": \"\",\n        \"description\": \"\"\n      }\n    },\n    {\n      \"column\": \"PC3\",\n      \"properties\": {\n        \"dtype\": \"number\",\n        \"std\": 0.7197483939367105,\n        \"min\": -3.12302,\n        \"max\": 4.06016,\n        \"num_unique_values\": 494,\n        \"samples\": [\n          -1.19888,\n          0.36498,\n          0.14759\n        ],\n        \"semantic_type\": \"\",\n        \"description\": \"\"\n      }\n    },\n    {\n      \"column\": \"PC4\",\n      \"properties\": {\n        \"dtype\": \"number\",\n        \"std\": 0.7251622442011242,\n        \"min\": -1.70713,\n        \"max\": 2.33936,\n        \"num_unique_values\": 494,\n        \"samples\": [\n          -0.5053,\n          -0.10312,\n          -0.03626\n        ],\n        \"semantic_type\": \"\",\n        \"description\": \"\"\n      }\n    },\n    {\n      \"column\": \"PC5\",\n      \"properties\": {\n        \"dtype\": \"number\",\n        \"std\": 0.5718157807881648,\n        \"min\": -4.1962,\n        \"max\": 2.29557,\n        \"num_unique_values\": 493,\n        \"samples\": [\n          -0.00155,\n          -1.04825,\n          0.68904\n        ],\n        \"semantic_type\": \"\",\n        \"description\": \"\"\n      }\n    },\n    {\n      \"column\": \"PC6\",\n      \"properties\": {\n        \"dtype\": \"number\",\n        \"std\": 0.5670991452211357,\n        \"min\": -2.70808,\n        \"max\": 3.18459,\n        \"num_unique_values\": 492,\n        \"samples\": [\n          0.23593,\n          -0.03794,\n          0.46775\n        ],\n        \"semantic_type\": \"\",\n        \"description\": \"\"\n      }\n    },\n    {\n      \"column\": \"PC7\",\n      \"properties\": {\n        \"dtype\": \"number\",\n        \"std\": 0.45205973905396984,\n        \"min\": -1.3933,\n        \"max\": 1.59779,\n        \"num_unique_values\": 494,\n        \"samples\": [\n          0.1841,\n          0.46413,\n          0.24873\n        ],\n        \"semantic_type\": \"\",\n        \"description\": \"\"\n      }\n    }\n  ]\n}"
            }
          },
          "metadata": {},
          "execution_count": 6
        }
      ],
      "source": [
        "# Visualizar la tabla de datos\n",
        "df"
      ]
    },
    {
      "cell_type": "code",
      "execution_count": null,
      "metadata": {
        "id": "FAY2r7hBrC0X"
      },
      "outputs": [],
      "source": [
        "#Extraer las variables de entrada y de salida de la tabla\n",
        "\n",
        "y_names=['ETIQUETA'] # Valores de salida-etiquetas de depósito (1) y no depósito (0)\n",
        "y=df[y_names].values\n",
        "\n",
        "x_names=['PC1','PC2','PC3','PC4','PC5','PC6','PC7']\n",
        "X=df[x_names].values"
      ]
    },
    {
      "cell_type": "code",
      "source": [
        "print (X)"
      ],
      "metadata": {
        "colab": {
          "base_uri": "https://localhost:8080/"
        },
        "id": "3aWV0Aorbe2q",
        "outputId": "69925fd3-9b1c-4d99-9c84-4a67fab82123"
      },
      "execution_count": null,
      "outputs": [
        {
          "output_type": "stream",
          "name": "stdout",
          "text": [
            "[[-1.02012 -0.17439 -0.16226 ... -0.06813 -0.22757  0.07461]\n",
            " [-0.2691  -0.65331 -0.74518 ... -0.02956 -0.04558  0.41562]\n",
            " [-0.41238 -0.76499  0.7426  ...  0.018   -0.19724  0.81571]\n",
            " ...\n",
            " [-0.74277 -0.32283  0.67918 ... -0.67747  0.47439  0.18307]\n",
            " [-0.57743 -0.50222  1.17196 ...  0.52522  0.10258  0.14146]\n",
            " [-1.47529  0.11307 -0.54116 ...  0.05163  0.2277  -0.08558]]\n"
          ]
        }
      ]
    },
    {
      "cell_type": "code",
      "execution_count": null,
      "metadata": {
        "id": "N9vBNCyTI979"
      },
      "outputs": [],
      "source": [
        "#One hot encoding\n",
        "\n",
        "from tensorflow.keras.utils import to_categorical\n",
        "trainY = to_categorical(y)"
      ]
    },
    {
      "cell_type": "code",
      "execution_count": null,
      "metadata": {
        "id": "wEZU-htqgSHU",
        "colab": {
          "base_uri": "https://localhost:8080/"
        },
        "outputId": "52913723-abfa-446f-877d-1532d02a4234"
      },
      "outputs": [
        {
          "output_type": "execute_result",
          "data": {
            "text/plain": [
              "array([[1., 0., 0., 0., 0.],\n",
              "       [1., 0., 0., 0., 0.],\n",
              "       [1., 0., 0., 0., 0.],\n",
              "       ...,\n",
              "       [0., 0., 0., 0., 1.],\n",
              "       [0., 0., 0., 0., 1.],\n",
              "       [0., 0., 0., 0., 1.]], dtype=float32)"
            ]
          },
          "metadata": {},
          "execution_count": 10
        }
      ],
      "source": [
        "trainY"
      ]
    },
    {
      "cell_type": "code",
      "execution_count": null,
      "metadata": {
        "id": "CYoZgG9-orlc"
      },
      "outputs": [],
      "source": [
        "from sklearn.model_selection import train_test_split"
      ]
    },
    {
      "cell_type": "code",
      "execution_count": null,
      "metadata": {
        "id": "Ut6zRAIloA0Z"
      },
      "outputs": [],
      "source": [
        "X_train, X_test, y_train, y_test = train_test_split(X, trainY, test_size=0.2, shuffle=True)"
      ]
    },
    {
      "cell_type": "code",
      "execution_count": null,
      "metadata": {
        "id": "ZWHtvlftINoH"
      },
      "outputs": [],
      "source": [
        "# Crear el modelo de la tarea pretexto\n",
        "\n",
        "model = tf.keras.Sequential()\n",
        "model.add(tf.keras.Input(shape=(7,))) # CAPA INPUT\n",
        "model.add(tf.keras.layers.Dense(100, activation=\"relu\")) # 1 CAPA OCULTA, TIENE 100 NEURONAS\n",
        "model.add(tf.keras.layers.Dense(8, activation=\"relu\")) # 2 CAPA OCULTA, TIENE 8 NEURONAS\n",
        "model.add(tf.keras.layers.Dense(6, activation=\"relu\")) # 3 CAPA OCULTA, TIENE 6 NEURONAS\n",
        "model.add(tf.keras.layers.Dense(4, activation=\"relu\")) # 4 CAPA OCULTA, TIENE 4 NEURONAS\n",
        "model.add(tf.keras.layers.Dense(2, activation=\"relu\")) # 5 CAPA OCULTA, TIENE 2 NEURONAS\n",
        "model.add(tf.keras.layers.Dense(5, activation='softmax')) # 9 CAPA OCULTA PRETEXT, TIENE 5 NEURONAS"
      ]
    },
    {
      "cell_type": "code",
      "execution_count": null,
      "metadata": {
        "id": "wHXhfPS5JMXp",
        "colab": {
          "base_uri": "https://localhost:8080/"
        },
        "outputId": "40cd8dc9-4792-46b4-c655-083ed3779fc2"
      },
      "outputs": [
        {
          "output_type": "stream",
          "name": "stdout",
          "text": [
            "Model: \"sequential\"\n",
            "_________________________________________________________________\n",
            " Layer (type)                Output Shape              Param #   \n",
            "=================================================================\n",
            " dense (Dense)               (None, 100)               800       \n",
            "                                                                 \n",
            " dense_1 (Dense)             (None, 8)                 808       \n",
            "                                                                 \n",
            " dense_2 (Dense)             (None, 6)                 54        \n",
            "                                                                 \n",
            " dense_3 (Dense)             (None, 4)                 28        \n",
            "                                                                 \n",
            " dense_4 (Dense)             (None, 2)                 10        \n",
            "                                                                 \n",
            " dense_5 (Dense)             (None, 5)                 15        \n",
            "                                                                 \n",
            "=================================================================\n",
            "Total params: 1715 (6.70 KB)\n",
            "Trainable params: 1715 (6.70 KB)\n",
            "Non-trainable params: 0 (0.00 Byte)\n",
            "_________________________________________________________________\n"
          ]
        }
      ],
      "source": [
        "# Imprimir un resumen del modelo\n",
        "\n",
        "model.summary()"
      ]
    },
    {
      "cell_type": "code",
      "execution_count": null,
      "metadata": {
        "id": "pdx19i1xJZN5",
        "colab": {
          "base_uri": "https://localhost:8080/",
          "height": 754
        },
        "outputId": "a1a64616-8b3b-4553-ca86-58f6c7f6ade9"
      },
      "outputs": [
        {
          "output_type": "execute_result",
          "data": {
            "image/png": "[encoded data removed]",
            "text/plain": [
              "<IPython.core.display.Image object>"
            ]
          },
          "metadata": {},
          "execution_count": 15
        }
      ],
      "source": [
        "# Imprimir un diagrama de grafo del modelo\n",
        "\n",
        "tf.keras.utils.plot_model(model, show_shapes=True)"
      ]
    },
    {
      "cell_type": "code",
      "execution_count": null,
      "metadata": {
        "id": "Rm35Z6fDJlRJ"
      },
      "outputs": [],
      "source": [
        "# Indicar el optimizador usado para el backpropagation y las métricas de evaluación\n",
        "\n",
        "optimizer    = tf.keras.optimizers.Adam(learning_rate=1e-3) #antes learning rate 1e-3\n",
        "loss_fn  = tf.keras.losses.CategoricalCrossentropy() # tambien se puede indicar la función de perdida como las predeterminadas en keras"
      ]
    },
    {
      "cell_type": "code",
      "execution_count": null,
      "metadata": {
        "id": "fCCZ0dOvag1Z"
      },
      "outputs": [],
      "source": [
        "# Compilar el modelo con los hiperparámetros que se definieron anteriormente\n",
        "\n",
        "model.compile(optimizer=optimizer, loss=loss_fn, metrics=['accuracy'])"
      ]
    },
    {
      "cell_type": "code",
      "execution_count": null,
      "metadata": {
        "id": "IxYM6FVPFFLO",
        "colab": {
          "base_uri": "https://localhost:8080/",
          "height": 1000
        },
        "outputId": "60be581d-b994-4e19-e863-39dc0f9ba94a"
      },
      "outputs": [
        {
          "output_type": "stream",
          "name": "stdout",
          "text": [
            "Epoch 1/1000\n",
            "14/14 [==============================] - 10s 373ms/step - loss: 1.5915 - accuracy: 0.1773 - val_loss: 1.5831 - val_accuracy: 0.2818\n",
            "Epoch 2/1000\n",
            "14/14 [==============================] - 0s 9ms/step - loss: 1.5579 - accuracy: 0.2341 - val_loss: 1.5560 - val_accuracy: 0.2455\n",
            "Epoch 3/1000\n",
            "14/14 [==============================] - 0s 7ms/step - loss: 1.5267 - accuracy: 0.2705 - val_loss: 1.5353 - val_accuracy: 0.2636\n",
            "Epoch 4/1000\n",
            "14/14 [==============================] - 0s 9ms/step - loss: 1.5017 - accuracy: 0.3000 - val_loss: 1.5206 - val_accuracy: 0.2909\n",
            "Epoch 5/1000\n",
            "14/14 [==============================] - 0s 7ms/step - loss: 1.4867 - accuracy: 0.3159 - val_loss: 1.5118 - val_accuracy: 0.3273\n",
            "Epoch 6/1000\n",
            "14/14 [==============================] - 0s 8ms/step - loss: 1.4749 - accuracy: 0.3068 - val_loss: 1.5069 - val_accuracy: 0.3091\n",
            "Epoch 7/1000\n",
            "14/14 [==============================] - 0s 9ms/step - loss: 1.4655 - accuracy: 0.3159 - val_loss: 1.5004 - val_accuracy: 0.3364\n",
            "Epoch 8/1000\n",
            "14/14 [==============================] - 0s 8ms/step - loss: 1.4570 - accuracy: 0.3295 - val_loss: 1.4897 - val_accuracy: 0.3455\n",
            "Epoch 9/1000\n",
            "14/14 [==============================] - 0s 8ms/step - loss: 1.4471 - accuracy: 0.3273 - val_loss: 1.4827 - val_accuracy: 0.3545\n",
            "Epoch 10/1000\n",
            "14/14 [==============================] - 0s 9ms/step - loss: 1.4383 - accuracy: 0.3250 - val_loss: 1.4814 - val_accuracy: 0.3636\n",
            "Epoch 11/1000\n",
            "14/14 [==============================] - 0s 8ms/step - loss: 1.4299 - accuracy: 0.3364 - val_loss: 1.4743 - val_accuracy: 0.3273\n",
            "Epoch 12/1000\n",
            "14/14 [==============================] - 0s 8ms/step - loss: 1.4202 - accuracy: 0.3659 - val_loss: 1.4687 - val_accuracy: 0.3091\n",
            "Epoch 13/1000\n",
            "14/14 [==============================] - 0s 8ms/step - loss: 1.4111 - accuracy: 0.3932 - val_loss: 1.4651 - val_accuracy: 0.3091\n",
            "Epoch 14/1000\n",
            "14/14 [==============================] - 0s 9ms/step - loss: 1.4005 - accuracy: 0.4045 - val_loss: 1.4567 - val_accuracy: 0.3455\n",
            "Epoch 15/1000\n",
            "14/14 [==============================] - 0s 9ms/step - loss: 1.3891 - accuracy: 0.4182 - val_loss: 1.4525 - val_accuracy: 0.3727\n",
            "Epoch 16/1000\n",
            "14/14 [==============================] - 0s 10ms/step - loss: 1.3772 - accuracy: 0.4136 - val_loss: 1.4439 - val_accuracy: 0.3818\n",
            "Epoch 17/1000\n",
            "14/14 [==============================] - 0s 11ms/step - loss: 1.3669 - accuracy: 0.4159 - val_loss: 1.4390 - val_accuracy: 0.4000\n",
            "Epoch 18/1000\n",
            "14/14 [==============================] - 0s 10ms/step - loss: 1.3542 - accuracy: 0.4182 - val_loss: 1.4258 - val_accuracy: 0.4182\n",
            "Epoch 19/1000\n",
            "14/14 [==============================] - 0s 13ms/step - loss: 1.3430 - accuracy: 0.4136 - val_loss: 1.4064 - val_accuracy: 0.4364\n",
            "Epoch 20/1000\n",
            "14/14 [==============================] - 0s 12ms/step - loss: 1.3272 - accuracy: 0.4295 - val_loss: 1.3962 - val_accuracy: 0.4364\n",
            "Epoch 21/1000\n",
            "14/14 [==============================] - 0s 13ms/step - loss: 1.3106 - accuracy: 0.4250 - val_loss: 1.3881 - val_accuracy: 0.4364\n",
            "Epoch 22/1000\n",
            "14/14 [==============================] - 1s 102ms/step - loss: 1.2965 - accuracy: 0.4568 - val_loss: 1.3805 - val_accuracy: 0.4364\n",
            "Epoch 23/1000\n",
            "14/14 [==============================] - 0s 23ms/step - loss: 1.2813 - accuracy: 0.4636 - val_loss: 1.3710 - val_accuracy: 0.4455\n",
            "Epoch 24/1000\n",
            "14/14 [==============================] - 0s 20ms/step - loss: 1.2695 - accuracy: 0.4727 - val_loss: 1.3688 - val_accuracy: 0.4182\n",
            "Epoch 25/1000\n",
            "14/14 [==============================] - 0s 12ms/step - loss: 1.2530 - accuracy: 0.4841 - val_loss: 1.3660 - val_accuracy: 0.4636\n",
            "Epoch 26/1000\n",
            "14/14 [==============================] - 2s 115ms/step - loss: 1.2408 - accuracy: 0.4773 - val_loss: 1.3593 - val_accuracy: 0.4364\n",
            "Epoch 27/1000\n",
            "14/14 [==============================] - 0s 18ms/step - loss: 1.2285 - accuracy: 0.5045 - val_loss: 1.3759 - val_accuracy: 0.4364\n",
            "Epoch 28/1000\n",
            "14/14 [==============================] - 0s 27ms/step - loss: 1.2150 - accuracy: 0.5091 - val_loss: 1.3540 - val_accuracy: 0.4182\n",
            "Epoch 29/1000\n",
            "14/14 [==============================] - 1s 66ms/step - loss: 1.2055 - accuracy: 0.5136 - val_loss: 1.3626 - val_accuracy: 0.4364\n",
            "Epoch 30/1000\n",
            "14/14 [==============================] - 0s 6ms/step - loss: 1.1981 - accuracy: 0.5114 - val_loss: 1.3797 - val_accuracy: 0.4364\n",
            "Epoch 31/1000\n",
            "14/14 [==============================] - 0s 6ms/step - loss: 1.1841 - accuracy: 0.5182 - val_loss: 1.3524 - val_accuracy: 0.4091\n",
            "Epoch 32/1000\n",
            "14/14 [==============================] - 0s 6ms/step - loss: 1.1722 - accuracy: 0.5227 - val_loss: 1.3609 - val_accuracy: 0.4455\n",
            "Epoch 33/1000\n",
            "14/14 [==============================] - 0s 6ms/step - loss: 1.1643 - accuracy: 0.5091 - val_loss: 1.3822 - val_accuracy: 0.4727\n",
            "Epoch 34/1000\n",
            "14/14 [==============================] - 0s 6ms/step - loss: 1.1541 - accuracy: 0.5227 - val_loss: 1.3414 - val_accuracy: 0.4364\n",
            "Epoch 35/1000\n",
            "14/14 [==============================] - 0s 6ms/step - loss: 1.1440 - accuracy: 0.5341 - val_loss: 1.3716 - val_accuracy: 0.4636\n",
            "Epoch 36/1000\n",
            "14/14 [==============================] - 0s 6ms/step - loss: 1.1327 - accuracy: 0.5295 - val_loss: 1.3571 - val_accuracy: 0.4545\n",
            "Epoch 37/1000\n",
            "14/14 [==============================] - 0s 6ms/step - loss: 1.1206 - accuracy: 0.5273 - val_loss: 1.3740 - val_accuracy: 0.4727\n",
            "Epoch 38/1000\n",
            "14/14 [==============================] - 0s 9ms/step - loss: 1.1085 - accuracy: 0.5318 - val_loss: 1.3671 - val_accuracy: 0.4727\n",
            "Epoch 39/1000\n",
            "14/14 [==============================] - 0s 7ms/step - loss: 1.0992 - accuracy: 0.5318 - val_loss: 1.3944 - val_accuracy: 0.4636\n",
            "Epoch 40/1000\n",
            "14/14 [==============================] - 0s 6ms/step - loss: 1.0878 - accuracy: 0.5318 - val_loss: 1.3583 - val_accuracy: 0.4636\n",
            "Epoch 41/1000\n",
            "14/14 [==============================] - 0s 7ms/step - loss: 1.0814 - accuracy: 0.5500 - val_loss: 1.3902 - val_accuracy: 0.4727\n",
            "Epoch 42/1000\n",
            "14/14 [==============================] - 0s 7ms/step - loss: 1.0674 - accuracy: 0.5477 - val_loss: 1.3645 - val_accuracy: 0.4545\n",
            "Epoch 43/1000\n",
            "14/14 [==============================] - 0s 6ms/step - loss: 1.0554 - accuracy: 0.5568 - val_loss: 1.3619 - val_accuracy: 0.4818\n",
            "Epoch 44/1000\n",
            "14/14 [==============================] - 0s 11ms/step - loss: 1.0394 - accuracy: 0.5523 - val_loss: 1.3667 - val_accuracy: 0.4727\n",
            "Epoch 45/1000\n",
            "14/14 [==============================] - 0s 28ms/step - loss: 1.0275 - accuracy: 0.5455 - val_loss: 1.3746 - val_accuracy: 0.5000\n",
            "Epoch 46/1000\n",
            "14/14 [==============================] - 0s 26ms/step - loss: 1.0166 - accuracy: 0.5614 - val_loss: 1.3920 - val_accuracy: 0.4727\n",
            "Epoch 47/1000\n",
            "14/14 [==============================] - 1s 93ms/step - loss: 1.0086 - accuracy: 0.5477 - val_loss: 1.3864 - val_accuracy: 0.4818\n",
            "Epoch 48/1000\n",
            "14/14 [==============================] - 0s 21ms/step - loss: 0.9941 - accuracy: 0.5659 - val_loss: 1.3776 - val_accuracy: 0.4727\n",
            "Epoch 49/1000\n",
            "14/14 [==============================] - 0s 23ms/step - loss: 0.9798 - accuracy: 0.5795 - val_loss: 1.3909 - val_accuracy: 0.4727\n",
            "Epoch 50/1000\n",
            "14/14 [==============================] - 0s 35ms/step - loss: 0.9759 - accuracy: 0.5818 - val_loss: 1.3757 - val_accuracy: 0.4545\n",
            "Epoch 51/1000\n",
            "14/14 [==============================] - 0s 19ms/step - loss: 0.9741 - accuracy: 0.5636 - val_loss: 1.4131 - val_accuracy: 0.5000\n",
            "Epoch 52/1000\n",
            "14/14 [==============================] - 1s 73ms/step - loss: 0.9595 - accuracy: 0.5750 - val_loss: 1.3853 - val_accuracy: 0.4909\n",
            "Epoch 53/1000\n",
            "14/14 [==============================] - 1s 71ms/step - loss: 0.9440 - accuracy: 0.5841 - val_loss: 1.3731 - val_accuracy: 0.4909\n",
            "Epoch 54/1000\n",
            "14/14 [==============================] - 0s 7ms/step - loss: 0.9356 - accuracy: 0.6000 - val_loss: 1.4013 - val_accuracy: 0.4636\n",
            "Epoch 55/1000\n",
            "14/14 [==============================] - 0s 7ms/step - loss: 0.9284 - accuracy: 0.5977 - val_loss: 1.3991 - val_accuracy: 0.4909\n",
            "Epoch 56/1000\n",
            "14/14 [==============================] - 0s 6ms/step - loss: 0.9170 - accuracy: 0.6068 - val_loss: 1.4030 - val_accuracy: 0.4818\n",
            "Epoch 57/1000\n",
            "14/14 [==============================] - 0s 7ms/step - loss: 0.9056 - accuracy: 0.6000 - val_loss: 1.4316 - val_accuracy: 0.4727\n",
            "Epoch 58/1000\n",
            "14/14 [==============================] - 0s 7ms/step - loss: 0.8957 - accuracy: 0.5977 - val_loss: 1.4045 - val_accuracy: 0.4455\n",
            "Epoch 59/1000\n",
            "14/14 [==============================] - 0s 6ms/step - loss: 0.8895 - accuracy: 0.6136 - val_loss: 1.3973 - val_accuracy: 0.4909\n",
            "Epoch 60/1000\n",
            "14/14 [==============================] - 0s 6ms/step - loss: 0.8766 - accuracy: 0.6114 - val_loss: 1.4499 - val_accuracy: 0.4455\n",
            "Epoch 61/1000\n",
            "14/14 [==============================] - 0s 8ms/step - loss: 0.8702 - accuracy: 0.6205 - val_loss: 1.4178 - val_accuracy: 0.4727\n",
            "Epoch 62/1000\n",
            "14/14 [==============================] - 0s 6ms/step - loss: 0.8664 - accuracy: 0.6182 - val_loss: 1.4548 - val_accuracy: 0.4455\n",
            "Epoch 63/1000\n",
            "14/14 [==============================] - 0s 7ms/step - loss: 0.8602 - accuracy: 0.6114 - val_loss: 1.4043 - val_accuracy: 0.4727\n",
            "Epoch 64/1000\n",
            "14/14 [==============================] - 0s 6ms/step - loss: 0.8540 - accuracy: 0.6227 - val_loss: 1.4547 - val_accuracy: 0.4455\n",
            "Epoch 65/1000\n",
            "14/14 [==============================] - 0s 6ms/step - loss: 0.8433 - accuracy: 0.6318 - val_loss: 1.4479 - val_accuracy: 0.5545\n",
            "Epoch 66/1000\n",
            "14/14 [==============================] - 0s 7ms/step - loss: 0.8322 - accuracy: 0.7659 - val_loss: 1.4672 - val_accuracy: 0.5455\n",
            "Epoch 67/1000\n",
            "14/14 [==============================] - 0s 7ms/step - loss: 0.8274 - accuracy: 0.7386 - val_loss: 1.4751 - val_accuracy: 0.5455\n",
            "Epoch 68/1000\n",
            "14/14 [==============================] - 0s 6ms/step - loss: 0.8211 - accuracy: 0.7773 - val_loss: 1.4997 - val_accuracy: 0.5364\n",
            "Epoch 69/1000\n",
            "14/14 [==============================] - 0s 9ms/step - loss: 0.8152 - accuracy: 0.7773 - val_loss: 1.4800 - val_accuracy: 0.5455\n",
            "Epoch 70/1000\n",
            "14/14 [==============================] - 0s 8ms/step - loss: 0.8004 - accuracy: 0.7614 - val_loss: 1.4948 - val_accuracy: 0.5545\n",
            "Epoch 71/1000\n",
            "14/14 [==============================] - 0s 31ms/step - loss: 0.7937 - accuracy: 0.7795 - val_loss: 1.5540 - val_accuracy: 0.5636\n",
            "Epoch 72/1000\n",
            "14/14 [==============================] - 0s 6ms/step - loss: 0.7949 - accuracy: 0.7773 - val_loss: 1.4621 - val_accuracy: 0.5364\n",
            "Epoch 73/1000\n",
            "14/14 [==============================] - 0s 6ms/step - loss: 0.7810 - accuracy: 0.7886 - val_loss: 1.5244 - val_accuracy: 0.5545\n",
            "Epoch 74/1000\n",
            "14/14 [==============================] - 0s 12ms/step - loss: 0.7749 - accuracy: 0.7773 - val_loss: 1.5155 - val_accuracy: 0.5545\n",
            "Epoch 75/1000\n",
            "14/14 [==============================] - 0s 20ms/step - loss: 0.7693 - accuracy: 0.7955 - val_loss: 1.4819 - val_accuracy: 0.5636\n",
            "Epoch 76/1000\n",
            "14/14 [==============================] - 0s 14ms/step - loss: 0.7607 - accuracy: 0.7955 - val_loss: 1.5429 - val_accuracy: 0.5636\n",
            "Epoch 77/1000\n",
            "14/14 [==============================] - 0s 6ms/step - loss: 0.7504 - accuracy: 0.8159 - val_loss: 1.5332 - val_accuracy: 0.5636\n",
            "Epoch 78/1000\n",
            "14/14 [==============================] - 0s 7ms/step - loss: 0.7507 - accuracy: 0.7955 - val_loss: 1.5658 - val_accuracy: 0.5727\n",
            "Epoch 79/1000\n",
            "14/14 [==============================] - 0s 7ms/step - loss: 0.7412 - accuracy: 0.8114 - val_loss: 1.5444 - val_accuracy: 0.5727\n",
            "Epoch 80/1000\n",
            "14/14 [==============================] - 0s 8ms/step - loss: 0.7361 - accuracy: 0.8091 - val_loss: 1.5808 - val_accuracy: 0.5727\n",
            "Epoch 81/1000\n",
            "14/14 [==============================] - 0s 7ms/step - loss: 0.7263 - accuracy: 0.8136 - val_loss: 1.5851 - val_accuracy: 0.5545\n",
            "Epoch 82/1000\n",
            "14/14 [==============================] - 0s 7ms/step - loss: 0.7181 - accuracy: 0.8159 - val_loss: 1.5912 - val_accuracy: 0.5636\n",
            "Epoch 83/1000\n",
            "14/14 [==============================] - 0s 6ms/step - loss: 0.7141 - accuracy: 0.8227 - val_loss: 1.5715 - val_accuracy: 0.5545\n",
            "Epoch 84/1000\n",
            "14/14 [==============================] - 0s 10ms/step - loss: 0.7095 - accuracy: 0.8227 - val_loss: 1.5922 - val_accuracy: 0.5636\n",
            "Epoch 85/1000\n",
            "14/14 [==============================] - 0s 10ms/step - loss: 0.7028 - accuracy: 0.8205 - val_loss: 1.6185 - val_accuracy: 0.5727\n",
            "Epoch 86/1000\n",
            "14/14 [==============================] - 0s 10ms/step - loss: 0.7007 - accuracy: 0.8205 - val_loss: 1.5856 - val_accuracy: 0.5545\n",
            "Epoch 87/1000\n",
            "14/14 [==============================] - 0s 10ms/step - loss: 0.6962 - accuracy: 0.8227 - val_loss: 1.6236 - val_accuracy: 0.5727\n",
            "Epoch 88/1000\n",
            "14/14 [==============================] - 0s 9ms/step - loss: 0.6862 - accuracy: 0.8250 - val_loss: 1.6181 - val_accuracy: 0.5727\n",
            "Epoch 89/1000\n",
            "14/14 [==============================] - 0s 11ms/step - loss: 0.6845 - accuracy: 0.8250 - val_loss: 1.6606 - val_accuracy: 0.5636\n",
            "Epoch 90/1000\n",
            "14/14 [==============================] - 0s 9ms/step - loss: 0.6743 - accuracy: 0.8250 - val_loss: 1.6585 - val_accuracy: 0.5909\n",
            "Epoch 91/1000\n",
            "14/14 [==============================] - 0s 9ms/step - loss: 0.6688 - accuracy: 0.8295 - val_loss: 1.6327 - val_accuracy: 0.5727\n",
            "Epoch 92/1000\n",
            "14/14 [==============================] - 0s 11ms/step - loss: 0.6628 - accuracy: 0.8386 - val_loss: 1.6602 - val_accuracy: 0.5909\n",
            "Epoch 93/1000\n",
            "14/14 [==============================] - 0s 9ms/step - loss: 0.6583 - accuracy: 0.8341 - val_loss: 1.7240 - val_accuracy: 0.5727\n",
            "Epoch 94/1000\n",
            "14/14 [==============================] - 0s 11ms/step - loss: 0.6567 - accuracy: 0.8273 - val_loss: 1.6616 - val_accuracy: 0.5818\n",
            "Epoch 95/1000\n",
            "14/14 [==============================] - 0s 7ms/step - loss: 0.6463 - accuracy: 0.8432 - val_loss: 1.7603 - val_accuracy: 0.5727\n",
            "Epoch 96/1000\n",
            "14/14 [==============================] - 0s 6ms/step - loss: 0.6445 - accuracy: 0.8523 - val_loss: 1.6816 - val_accuracy: 0.5909\n",
            "Epoch 97/1000\n",
            "14/14 [==============================] - 0s 7ms/step - loss: 0.6373 - accuracy: 0.8386 - val_loss: 1.6855 - val_accuracy: 0.5909\n",
            "Epoch 98/1000\n",
            "14/14 [==============================] - 0s 6ms/step - loss: 0.6294 - accuracy: 0.8455 - val_loss: 1.7444 - val_accuracy: 0.5727\n",
            "Epoch 99/1000\n",
            "14/14 [==============================] - 0s 7ms/step - loss: 0.6252 - accuracy: 0.8477 - val_loss: 1.7003 - val_accuracy: 0.5727\n",
            "Epoch 100/1000\n",
            "14/14 [==============================] - 0s 6ms/step - loss: 0.6199 - accuracy: 0.8477 - val_loss: 1.7188 - val_accuracy: 0.5727\n",
            "Epoch 101/1000\n",
            "14/14 [==============================] - 0s 8ms/step - loss: 0.6177 - accuracy: 0.8545 - val_loss: 1.7082 - val_accuracy: 0.5636\n",
            "Epoch 102/1000\n",
            "14/14 [==============================] - 0s 6ms/step - loss: 0.6122 - accuracy: 0.8364 - val_loss: 1.7645 - val_accuracy: 0.5727\n",
            "Epoch 103/1000\n",
            "14/14 [==============================] - 0s 6ms/step - loss: 0.6105 - accuracy: 0.8614 - val_loss: 1.7285 - val_accuracy: 0.5909\n",
            "Epoch 104/1000\n",
            "14/14 [==============================] - 0s 6ms/step - loss: 0.6034 - accuracy: 0.8455 - val_loss: 1.7624 - val_accuracy: 0.5727\n",
            "Epoch 105/1000\n",
            "14/14 [==============================] - 0s 6ms/step - loss: 0.6006 - accuracy: 0.8591 - val_loss: 1.7943 - val_accuracy: 0.5364\n",
            "Epoch 106/1000\n",
            "14/14 [==============================] - 0s 7ms/step - loss: 0.5906 - accuracy: 0.8636 - val_loss: 1.7194 - val_accuracy: 0.5818\n",
            "Epoch 107/1000\n",
            "14/14 [==============================] - 0s 7ms/step - loss: 0.5857 - accuracy: 0.8614 - val_loss: 1.7512 - val_accuracy: 0.5818\n",
            "Epoch 108/1000\n",
            "14/14 [==============================] - 0s 7ms/step - loss: 0.5815 - accuracy: 0.8614 - val_loss: 1.7989 - val_accuracy: 0.5455\n",
            "Epoch 109/1000\n",
            "14/14 [==============================] - 0s 8ms/step - loss: 0.5752 - accuracy: 0.8659 - val_loss: 1.8160 - val_accuracy: 0.5818\n",
            "Epoch 110/1000\n",
            "14/14 [==============================] - 0s 6ms/step - loss: 0.5711 - accuracy: 0.8636 - val_loss: 1.7392 - val_accuracy: 0.5636\n",
            "Epoch 111/1000\n",
            "14/14 [==============================] - 0s 8ms/step - loss: 0.5649 - accuracy: 0.8705 - val_loss: 1.8227 - val_accuracy: 0.5545\n",
            "Epoch 112/1000\n",
            "14/14 [==============================] - 0s 6ms/step - loss: 0.5590 - accuracy: 0.8659 - val_loss: 1.7659 - val_accuracy: 0.5636\n",
            "Epoch 113/1000\n",
            "14/14 [==============================] - 0s 8ms/step - loss: 0.5566 - accuracy: 0.8795 - val_loss: 1.8348 - val_accuracy: 0.5636\n",
            "Epoch 114/1000\n",
            "14/14 [==============================] - 0s 7ms/step - loss: 0.5660 - accuracy: 0.8523 - val_loss: 1.7979 - val_accuracy: 0.5545\n",
            "Epoch 115/1000\n",
            "14/14 [==============================] - 0s 6ms/step - loss: 0.5568 - accuracy: 0.8705 - val_loss: 1.8149 - val_accuracy: 0.5636\n",
            "Epoch 116/1000\n",
            "14/14 [==============================] - 0s 7ms/step - loss: 0.5554 - accuracy: 0.8568 - val_loss: 1.8977 - val_accuracy: 0.5455\n",
            "Epoch 117/1000\n",
            "14/14 [==============================] - 0s 6ms/step - loss: 0.5418 - accuracy: 0.8727 - val_loss: 1.8108 - val_accuracy: 0.5636\n",
            "Epoch 118/1000\n",
            "14/14 [==============================] - 0s 6ms/step - loss: 0.5320 - accuracy: 0.8795 - val_loss: 1.8764 - val_accuracy: 0.5545\n",
            "Epoch 119/1000\n",
            "14/14 [==============================] - 0s 7ms/step - loss: 0.5277 - accuracy: 0.8773 - val_loss: 1.8467 - val_accuracy: 0.5545\n",
            "Epoch 120/1000\n",
            "14/14 [==============================] - 0s 7ms/step - loss: 0.5257 - accuracy: 0.8818 - val_loss: 1.8669 - val_accuracy: 0.5545\n",
            "Epoch 121/1000\n",
            "14/14 [==============================] - 0s 6ms/step - loss: 0.5224 - accuracy: 0.8818 - val_loss: 1.8343 - val_accuracy: 0.5727\n",
            "Epoch 122/1000\n",
            "14/14 [==============================] - 0s 7ms/step - loss: 0.5182 - accuracy: 0.8818 - val_loss: 1.9066 - val_accuracy: 0.5455\n",
            "Epoch 123/1000\n",
            "14/14 [==============================] - 0s 6ms/step - loss: 0.5139 - accuracy: 0.8864 - val_loss: 1.9483 - val_accuracy: 0.5455\n",
            "Epoch 124/1000\n",
            "14/14 [==============================] - 0s 6ms/step - loss: 0.5097 - accuracy: 0.8818 - val_loss: 1.8780 - val_accuracy: 0.5545\n",
            "Epoch 125/1000\n",
            "14/14 [==============================] - 0s 7ms/step - loss: 0.5049 - accuracy: 0.8841 - val_loss: 1.9452 - val_accuracy: 0.5636\n",
            "Epoch 126/1000\n",
            "14/14 [==============================] - 0s 8ms/step - loss: 0.4977 - accuracy: 0.8909 - val_loss: 1.9080 - val_accuracy: 0.5636\n",
            "Epoch 127/1000\n",
            "14/14 [==============================] - 0s 6ms/step - loss: 0.4964 - accuracy: 0.8864 - val_loss: 1.9294 - val_accuracy: 0.5545\n",
            "Epoch 128/1000\n",
            "14/14 [==============================] - 0s 7ms/step - loss: 0.4898 - accuracy: 0.8886 - val_loss: 1.9042 - val_accuracy: 0.5545\n",
            "Epoch 129/1000\n",
            "14/14 [==============================] - 0s 7ms/step - loss: 0.4864 - accuracy: 0.8977 - val_loss: 1.9434 - val_accuracy: 0.5727\n",
            "Epoch 130/1000\n",
            "14/14 [==============================] - 0s 7ms/step - loss: 0.4828 - accuracy: 0.8977 - val_loss: 1.9442 - val_accuracy: 0.5545\n",
            "Epoch 131/1000\n",
            "14/14 [==============================] - 0s 10ms/step - loss: 0.4809 - accuracy: 0.9000 - val_loss: 2.0232 - val_accuracy: 0.5455\n",
            "Epoch 132/1000\n",
            "14/14 [==============================] - 0s 10ms/step - loss: 0.4771 - accuracy: 0.9000 - val_loss: 1.8712 - val_accuracy: 0.5455\n",
            "Epoch 133/1000\n",
            "14/14 [==============================] - 0s 7ms/step - loss: 0.4790 - accuracy: 0.9000 - val_loss: 1.9797 - val_accuracy: 0.5455\n",
            "Epoch 134/1000\n",
            "14/14 [==============================] - 0s 6ms/step - loss: 0.4669 - accuracy: 0.8955 - val_loss: 2.0020 - val_accuracy: 0.5545\n",
            "Epoch 135/1000\n",
            "14/14 [==============================] - 0s 7ms/step - loss: 0.4649 - accuracy: 0.8977 - val_loss: 2.0275 - val_accuracy: 0.5545\n",
            "Epoch 136/1000\n",
            "14/14 [==============================] - 0s 7ms/step - loss: 0.4650 - accuracy: 0.9000 - val_loss: 2.0582 - val_accuracy: 0.5545\n",
            "Epoch 137/1000\n",
            "14/14 [==============================] - 0s 7ms/step - loss: 0.4597 - accuracy: 0.8977 - val_loss: 2.0572 - val_accuracy: 0.5545\n",
            "Epoch 138/1000\n",
            "14/14 [==============================] - 0s 6ms/step - loss: 0.4620 - accuracy: 0.8886 - val_loss: 2.0470 - val_accuracy: 0.5455\n",
            "Epoch 139/1000\n",
            "14/14 [==============================] - 0s 9ms/step - loss: 0.4563 - accuracy: 0.9091 - val_loss: 2.1265 - val_accuracy: 0.5455\n",
            "Epoch 140/1000\n",
            "14/14 [==============================] - 0s 7ms/step - loss: 0.4539 - accuracy: 0.9068 - val_loss: 2.0407 - val_accuracy: 0.5545\n",
            "Epoch 141/1000\n",
            "14/14 [==============================] - 0s 7ms/step - loss: 0.4473 - accuracy: 0.9045 - val_loss: 2.0586 - val_accuracy: 0.5545\n",
            "Epoch 142/1000\n",
            "14/14 [==============================] - 0s 6ms/step - loss: 0.4449 - accuracy: 0.9045 - val_loss: 2.1312 - val_accuracy: 0.5545\n",
            "Epoch 143/1000\n",
            "14/14 [==============================] - 0s 7ms/step - loss: 0.4472 - accuracy: 0.9068 - val_loss: 2.0844 - val_accuracy: 0.5455\n",
            "Epoch 144/1000\n",
            "14/14 [==============================] - 0s 6ms/step - loss: 0.4404 - accuracy: 0.9045 - val_loss: 2.1311 - val_accuracy: 0.5636\n",
            "Epoch 145/1000\n",
            "14/14 [==============================] - 0s 6ms/step - loss: 0.4340 - accuracy: 0.9091 - val_loss: 2.0849 - val_accuracy: 0.5727\n",
            "Epoch 146/1000\n",
            "14/14 [==============================] - 0s 7ms/step - loss: 0.4324 - accuracy: 0.9068 - val_loss: 2.1013 - val_accuracy: 0.5455\n",
            "Epoch 147/1000\n",
            "14/14 [==============================] - 0s 6ms/step - loss: 0.4286 - accuracy: 0.9091 - val_loss: 2.1686 - val_accuracy: 0.5455\n",
            "Epoch 148/1000\n",
            "14/14 [==============================] - 0s 7ms/step - loss: 0.4327 - accuracy: 0.8977 - val_loss: 2.2410 - val_accuracy: 0.5455\n",
            "Epoch 149/1000\n",
            "14/14 [==============================] - 0s 6ms/step - loss: 0.4313 - accuracy: 0.9023 - val_loss: 2.1000 - val_accuracy: 0.5636\n",
            "Epoch 150/1000\n",
            "14/14 [==============================] - 0s 7ms/step - loss: 0.4322 - accuracy: 0.9068 - val_loss: 2.1369 - val_accuracy: 0.5455\n",
            "Epoch 151/1000\n",
            "14/14 [==============================] - 0s 6ms/step - loss: 0.4238 - accuracy: 0.9091 - val_loss: 2.2017 - val_accuracy: 0.5545\n",
            "Epoch 152/1000\n",
            "14/14 [==============================] - 0s 9ms/step - loss: 0.4253 - accuracy: 0.9068 - val_loss: 2.1581 - val_accuracy: 0.5455\n",
            "Epoch 153/1000\n",
            "14/14 [==============================] - 0s 7ms/step - loss: 0.4221 - accuracy: 0.9023 - val_loss: 2.2652 - val_accuracy: 0.5455\n",
            "Epoch 154/1000\n",
            "14/14 [==============================] - 0s 7ms/step - loss: 0.4144 - accuracy: 0.9091 - val_loss: 2.2366 - val_accuracy: 0.5545\n",
            "Epoch 155/1000\n",
            "14/14 [==============================] - 0s 7ms/step - loss: 0.4082 - accuracy: 0.9250 - val_loss: 2.2239 - val_accuracy: 0.5455\n",
            "Epoch 156/1000\n",
            "14/14 [==============================] - 0s 6ms/step - loss: 0.4076 - accuracy: 0.9068 - val_loss: 2.2839 - val_accuracy: 0.5545\n",
            "Epoch 157/1000\n",
            "14/14 [==============================] - 0s 7ms/step - loss: 0.4063 - accuracy: 0.9136 - val_loss: 2.2025 - val_accuracy: 0.5545\n",
            "Epoch 158/1000\n",
            "14/14 [==============================] - 0s 6ms/step - loss: 0.4003 - accuracy: 0.9205 - val_loss: 2.2989 - val_accuracy: 0.5455\n",
            "Epoch 159/1000\n",
            "14/14 [==============================] - 0s 8ms/step - loss: 0.3942 - accuracy: 0.9182 - val_loss: 2.2513 - val_accuracy: 0.5455\n",
            "Epoch 160/1000\n",
            "14/14 [==============================] - 0s 7ms/step - loss: 0.3941 - accuracy: 0.9205 - val_loss: 2.3020 - val_accuracy: 0.5364\n",
            "Epoch 161/1000\n",
            "14/14 [==============================] - 0s 6ms/step - loss: 0.3938 - accuracy: 0.9227 - val_loss: 2.2397 - val_accuracy: 0.5545\n",
            "Epoch 162/1000\n",
            "14/14 [==============================] - 0s 6ms/step - loss: 0.3901 - accuracy: 0.9227 - val_loss: 2.3113 - val_accuracy: 0.5636\n",
            "Epoch 163/1000\n",
            "14/14 [==============================] - 0s 7ms/step - loss: 0.3880 - accuracy: 0.9182 - val_loss: 2.2833 - val_accuracy: 0.5455\n",
            "Epoch 164/1000\n",
            "14/14 [==============================] - 0s 8ms/step - loss: 0.3841 - accuracy: 0.9136 - val_loss: 2.2869 - val_accuracy: 0.5364\n",
            "Epoch 165/1000\n",
            "14/14 [==============================] - 0s 7ms/step - loss: 0.3804 - accuracy: 0.9205 - val_loss: 2.3110 - val_accuracy: 0.5364\n",
            "Epoch 166/1000\n",
            "14/14 [==============================] - 0s 7ms/step - loss: 0.3776 - accuracy: 0.9136 - val_loss: 2.2956 - val_accuracy: 0.5455\n",
            "Epoch 167/1000\n",
            "14/14 [==============================] - 0s 32ms/step - loss: 0.3851 - accuracy: 0.9205 - val_loss: 2.4167 - val_accuracy: 0.5545\n",
            "Epoch 168/1000\n",
            "14/14 [==============================] - 0s 9ms/step - loss: 0.3744 - accuracy: 0.9159 - val_loss: 2.3221 - val_accuracy: 0.5455\n",
            "Epoch 169/1000\n",
            "14/14 [==============================] - 0s 9ms/step - loss: 0.3722 - accuracy: 0.9273 - val_loss: 2.4562 - val_accuracy: 0.5545\n",
            "Epoch 170/1000\n",
            "14/14 [==============================] - 0s 12ms/step - loss: 0.3706 - accuracy: 0.9205 - val_loss: 2.3598 - val_accuracy: 0.5545\n",
            "Epoch 171/1000\n",
            "14/14 [==============================] - 0s 11ms/step - loss: 0.3675 - accuracy: 0.9295 - val_loss: 2.4251 - val_accuracy: 0.5364\n",
            "Epoch 172/1000\n",
            "14/14 [==============================] - 0s 9ms/step - loss: 0.3659 - accuracy: 0.9205 - val_loss: 2.3899 - val_accuracy: 0.5455\n",
            "Epoch 173/1000\n",
            "14/14 [==============================] - 0s 10ms/step - loss: 0.3621 - accuracy: 0.9295 - val_loss: 2.4825 - val_accuracy: 0.5455\n",
            "Epoch 174/1000\n",
            "14/14 [==============================] - 1s 70ms/step - loss: 0.3606 - accuracy: 0.9295 - val_loss: 2.4651 - val_accuracy: 0.5545\n",
            "Epoch 175/1000\n",
            "14/14 [==============================] - 1s 66ms/step - loss: 0.3563 - accuracy: 0.9273 - val_loss: 2.4597 - val_accuracy: 0.5545\n",
            "Epoch 176/1000\n",
            "14/14 [==============================] - 1s 68ms/step - loss: 0.3536 - accuracy: 0.9318 - val_loss: 2.4573 - val_accuracy: 0.5364\n",
            "Epoch 177/1000\n",
            "14/14 [==============================] - 0s 6ms/step - loss: 0.3519 - accuracy: 0.9273 - val_loss: 2.4628 - val_accuracy: 0.5455\n",
            "Epoch 178/1000\n",
            "14/14 [==============================] - 0s 7ms/step - loss: 0.3499 - accuracy: 0.9386 - val_loss: 2.4710 - val_accuracy: 0.5455\n",
            "Epoch 179/1000\n",
            "14/14 [==============================] - 0s 6ms/step - loss: 0.3528 - accuracy: 0.9318 - val_loss: 2.5234 - val_accuracy: 0.5545\n",
            "Epoch 180/1000\n",
            "14/14 [==============================] - 0s 7ms/step - loss: 0.3481 - accuracy: 0.9364 - val_loss: 2.5320 - val_accuracy: 0.5545\n",
            "Epoch 181/1000\n",
            "14/14 [==============================] - 0s 6ms/step - loss: 0.3416 - accuracy: 0.9386 - val_loss: 2.5216 - val_accuracy: 0.5455\n",
            "Epoch 182/1000\n",
            "14/14 [==============================] - 0s 6ms/step - loss: 0.3481 - accuracy: 0.9295 - val_loss: 2.4971 - val_accuracy: 0.5455\n",
            "Epoch 183/1000\n",
            "14/14 [==============================] - 0s 8ms/step - loss: 0.3498 - accuracy: 0.9250 - val_loss: 2.5156 - val_accuracy: 0.5273\n",
            "Epoch 184/1000\n",
            "14/14 [==============================] - 0s 7ms/step - loss: 0.3425 - accuracy: 0.9477 - val_loss: 2.6379 - val_accuracy: 0.5364\n",
            "Epoch 185/1000\n",
            "14/14 [==============================] - 0s 7ms/step - loss: 0.3396 - accuracy: 0.9318 - val_loss: 2.5110 - val_accuracy: 0.5455\n",
            "Epoch 186/1000\n",
            "14/14 [==============================] - 0s 7ms/step - loss: 0.3343 - accuracy: 0.9477 - val_loss: 2.5112 - val_accuracy: 0.5636\n",
            "Epoch 187/1000\n",
            "14/14 [==============================] - 0s 9ms/step - loss: 0.3303 - accuracy: 0.9455 - val_loss: 2.7218 - val_accuracy: 0.5455\n",
            "Epoch 188/1000\n",
            "14/14 [==============================] - 0s 8ms/step - loss: 0.3322 - accuracy: 0.9341 - val_loss: 2.6683 - val_accuracy: 0.5636\n",
            "Epoch 189/1000\n",
            "14/14 [==============================] - 0s 8ms/step - loss: 0.3304 - accuracy: 0.9432 - val_loss: 2.6088 - val_accuracy: 0.5364\n",
            "Epoch 190/1000\n",
            "14/14 [==============================] - 0s 7ms/step - loss: 0.3302 - accuracy: 0.9409 - val_loss: 2.6606 - val_accuracy: 0.5455\n",
            "Epoch 191/1000\n",
            "14/14 [==============================] - 0s 6ms/step - loss: 0.3230 - accuracy: 0.9455 - val_loss: 2.6185 - val_accuracy: 0.5364\n",
            "Epoch 192/1000\n",
            "14/14 [==============================] - 0s 7ms/step - loss: 0.3178 - accuracy: 0.9523 - val_loss: 2.6353 - val_accuracy: 0.5273\n",
            "Epoch 193/1000\n",
            "14/14 [==============================] - 0s 7ms/step - loss: 0.3184 - accuracy: 0.9477 - val_loss: 2.6857 - val_accuracy: 0.5455\n",
            "Epoch 194/1000\n",
            "14/14 [==============================] - 0s 7ms/step - loss: 0.3170 - accuracy: 0.9386 - val_loss: 2.6145 - val_accuracy: 0.5182\n",
            "Epoch 195/1000\n",
            "14/14 [==============================] - 0s 6ms/step - loss: 0.3136 - accuracy: 0.9455 - val_loss: 2.7886 - val_accuracy: 0.5364\n",
            "Epoch 196/1000\n",
            "14/14 [==============================] - 0s 6ms/step - loss: 0.3143 - accuracy: 0.9455 - val_loss: 2.7092 - val_accuracy: 0.5455\n",
            "Epoch 197/1000\n",
            "14/14 [==============================] - 0s 7ms/step - loss: 0.3136 - accuracy: 0.9432 - val_loss: 2.7209 - val_accuracy: 0.5545\n",
            "Epoch 198/1000\n",
            "14/14 [==============================] - 0s 6ms/step - loss: 0.3110 - accuracy: 0.9477 - val_loss: 2.7191 - val_accuracy: 0.5636\n",
            "Epoch 199/1000\n",
            "14/14 [==============================] - 0s 6ms/step - loss: 0.3082 - accuracy: 0.9500 - val_loss: 2.7338 - val_accuracy: 0.5455\n",
            "Epoch 200/1000\n",
            "14/14 [==============================] - 0s 6ms/step - loss: 0.3041 - accuracy: 0.9500 - val_loss: 2.7129 - val_accuracy: 0.5545\n",
            "Epoch 201/1000\n",
            "14/14 [==============================] - 0s 6ms/step - loss: 0.3015 - accuracy: 0.9477 - val_loss: 2.7386 - val_accuracy: 0.5455\n",
            "Epoch 202/1000\n",
            "14/14 [==============================] - 0s 7ms/step - loss: 0.3029 - accuracy: 0.9500 - val_loss: 2.7455 - val_accuracy: 0.5545\n",
            "Epoch 203/1000\n",
            "14/14 [==============================] - 0s 10ms/step - loss: 0.2999 - accuracy: 0.9477 - val_loss: 2.8379 - val_accuracy: 0.5364\n",
            "Epoch 204/1000\n",
            "14/14 [==============================] - 0s 16ms/step - loss: 0.2953 - accuracy: 0.9500 - val_loss: 2.7337 - val_accuracy: 0.5364\n",
            "Epoch 205/1000\n",
            "14/14 [==============================] - 1s 88ms/step - loss: 0.2982 - accuracy: 0.9523 - val_loss: 2.8679 - val_accuracy: 0.5364\n",
            "Epoch 206/1000\n",
            "14/14 [==============================] - 1s 75ms/step - loss: 0.2939 - accuracy: 0.9500 - val_loss: 2.8272 - val_accuracy: 0.5364\n",
            "Epoch 207/1000\n",
            "14/14 [==============================] - 1s 75ms/step - loss: 0.2910 - accuracy: 0.9545 - val_loss: 2.9133 - val_accuracy: 0.5364\n",
            "Epoch 208/1000\n",
            "14/14 [==============================] - 1s 7ms/step - loss: 0.2971 - accuracy: 0.9523 - val_loss: 2.8816 - val_accuracy: 0.5364\n",
            "Epoch 209/1000\n",
            "14/14 [==============================] - 0s 6ms/step - loss: 0.2973 - accuracy: 0.9545 - val_loss: 2.9718 - val_accuracy: 0.5364\n",
            "Epoch 210/1000\n",
            "14/14 [==============================] - 0s 6ms/step - loss: 0.2962 - accuracy: 0.9545 - val_loss: 2.8579 - val_accuracy: 0.5364\n",
            "Epoch 211/1000\n",
            "14/14 [==============================] - 0s 6ms/step - loss: 0.2970 - accuracy: 0.9500 - val_loss: 2.9817 - val_accuracy: 0.5364\n",
            "Epoch 212/1000\n",
            "14/14 [==============================] - 0s 6ms/step - loss: 0.2970 - accuracy: 0.9545 - val_loss: 2.9584 - val_accuracy: 0.5455\n",
            "Epoch 213/1000\n",
            "14/14 [==============================] - 0s 8ms/step - loss: 0.3194 - accuracy: 0.9386 - val_loss: 2.9437 - val_accuracy: 0.5727\n",
            "Epoch 214/1000\n",
            "14/14 [==============================] - 0s 6ms/step - loss: 0.3282 - accuracy: 0.9409 - val_loss: 2.7806 - val_accuracy: 0.5455\n",
            "Epoch 215/1000\n",
            "14/14 [==============================] - 0s 7ms/step - loss: 0.3515 - accuracy: 0.9159 - val_loss: 3.2409 - val_accuracy: 0.5455\n",
            "Epoch 216/1000\n",
            "14/14 [==============================] - 0s 7ms/step - loss: 0.3548 - accuracy: 0.9205 - val_loss: 3.1674 - val_accuracy: 0.5545\n",
            "Epoch 217/1000\n",
            "14/14 [==============================] - 0s 7ms/step - loss: 0.3439 - accuracy: 0.9136 - val_loss: 3.7635 - val_accuracy: 0.5636\n",
            "Epoch 218/1000\n",
            "14/14 [==============================] - 0s 7ms/step - loss: 0.3229 - accuracy: 0.9409 - val_loss: 2.8411 - val_accuracy: 0.5182\n",
            "Epoch 219/1000\n",
            "14/14 [==============================] - 0s 7ms/step - loss: 0.3040 - accuracy: 0.9432 - val_loss: 2.8454 - val_accuracy: 0.5455\n",
            "Epoch 220/1000\n",
            "14/14 [==============================] - 0s 7ms/step - loss: 0.2804 - accuracy: 0.9636 - val_loss: 3.0033 - val_accuracy: 0.5364\n",
            "Epoch 221/1000\n",
            "14/14 [==============================] - 0s 7ms/step - loss: 0.2771 - accuracy: 0.9523 - val_loss: 2.9975 - val_accuracy: 0.5545\n",
            "Epoch 222/1000\n",
            "14/14 [==============================] - 0s 7ms/step - loss: 0.2725 - accuracy: 0.9568 - val_loss: 2.9001 - val_accuracy: 0.5273\n",
            "Epoch 223/1000\n",
            "14/14 [==============================] - 0s 7ms/step - loss: 0.2688 - accuracy: 0.9568 - val_loss: 2.9884 - val_accuracy: 0.5455\n",
            "Epoch 224/1000\n",
            "14/14 [==============================] - 0s 7ms/step - loss: 0.2658 - accuracy: 0.9591 - val_loss: 3.0141 - val_accuracy: 0.5273\n",
            "Epoch 225/1000\n",
            "14/14 [==============================] - 0s 8ms/step - loss: 0.2639 - accuracy: 0.9568 - val_loss: 3.0139 - val_accuracy: 0.5545\n",
            "Epoch 226/1000\n",
            "14/14 [==============================] - 0s 7ms/step - loss: 0.2641 - accuracy: 0.9614 - val_loss: 3.0779 - val_accuracy: 0.5545\n",
            "Epoch 227/1000\n",
            "14/14 [==============================] - 0s 7ms/step - loss: 0.2610 - accuracy: 0.9636 - val_loss: 3.0251 - val_accuracy: 0.5364\n",
            "Epoch 228/1000\n",
            "14/14 [==============================] - 0s 6ms/step - loss: 0.2580 - accuracy: 0.9614 - val_loss: 3.0432 - val_accuracy: 0.5364\n",
            "Epoch 229/1000\n",
            "14/14 [==============================] - 0s 6ms/step - loss: 0.2573 - accuracy: 0.9591 - val_loss: 3.0359 - val_accuracy: 0.5364\n",
            "Epoch 230/1000\n",
            "14/14 [==============================] - 0s 6ms/step - loss: 0.2594 - accuracy: 0.9636 - val_loss: 3.0027 - val_accuracy: 0.5364\n",
            "Epoch 231/1000\n",
            "14/14 [==============================] - 0s 6ms/step - loss: 0.2600 - accuracy: 0.9568 - val_loss: 3.1073 - val_accuracy: 0.5545\n"
          ]
        },
        {
          "output_type": "error",
          "ename": "KeyboardInterrupt",
          "evalue": "",
          "traceback": [
            "\u001b[0;31m---------------------------------------------------------------------------\u001b[0m",
            "\u001b[0;31mKeyboardInterrupt\u001b[0m                         Traceback (most recent call last)",
            "\u001b[0;32m<ipython-input-18-7f91249a161a>\u001b[0m in \u001b[0;36m<cell line: 3>\u001b[0;34m()\u001b[0m\n\u001b[1;32m      1\u001b[0m \u001b[0;31m# Entrenar el modelo de la tarea pretexto\u001b[0m\u001b[0;34m\u001b[0m\u001b[0;34m\u001b[0m\u001b[0m\n\u001b[1;32m      2\u001b[0m \u001b[0;34m\u001b[0m\u001b[0m\n\u001b[0;32m----> 3\u001b[0;31m history= model.fit(\n\u001b[0m\u001b[1;32m      4\u001b[0m      \u001b[0mx\u001b[0m\u001b[0;34m=\u001b[0m\u001b[0mX_train\u001b[0m\u001b[0;34m,\u001b[0m\u001b[0;34m\u001b[0m\u001b[0;34m\u001b[0m\u001b[0m\n\u001b[1;32m      5\u001b[0m      \u001b[0my\u001b[0m\u001b[0;34m=\u001b[0m\u001b[0my_train\u001b[0m\u001b[0;34m,\u001b[0m\u001b[0;34m\u001b[0m\u001b[0;34m\u001b[0m\u001b[0m\n",
            "\u001b[0;32m/usr/local/lib/python3.10/dist-packages/keras/src/utils/traceback_utils.py\u001b[0m in \u001b[0;36merror_handler\u001b[0;34m(*args, **kwargs)\u001b[0m\n\u001b[1;32m     63\u001b[0m         \u001b[0mfiltered_tb\u001b[0m \u001b[0;34m=\u001b[0m \u001b[0;32mNone\u001b[0m\u001b[0;34m\u001b[0m\u001b[0;34m\u001b[0m\u001b[0m\n\u001b[1;32m     64\u001b[0m         \u001b[0;32mtry\u001b[0m\u001b[0;34m:\u001b[0m\u001b[0;34m\u001b[0m\u001b[0;34m\u001b[0m\u001b[0m\n\u001b[0;32m---> 65\u001b[0;31m             \u001b[0;32mreturn\u001b[0m \u001b[0mfn\u001b[0m\u001b[0;34m(\u001b[0m\u001b[0;34m*\u001b[0m\u001b[0margs\u001b[0m\u001b[0;34m,\u001b[0m \u001b[0;34m**\u001b[0m\u001b[0mkwargs\u001b[0m\u001b[0;34m)\u001b[0m\u001b[0;34m\u001b[0m\u001b[0;34m\u001b[0m\u001b[0m\n\u001b[0m\u001b[1;32m     66\u001b[0m         \u001b[0;32mexcept\u001b[0m \u001b[0mException\u001b[0m \u001b[0;32mas\u001b[0m \u001b[0me\u001b[0m\u001b[0;34m:\u001b[0m\u001b[0;34m\u001b[0m\u001b[0;34m\u001b[0m\u001b[0m\n\u001b[1;32m     67\u001b[0m             \u001b[0mfiltered_tb\u001b[0m \u001b[0;34m=\u001b[0m \u001b[0m_process_traceback_frames\u001b[0m\u001b[0;34m(\u001b[0m\u001b[0me\u001b[0m\u001b[0;34m.\u001b[0m\u001b[0m__traceback__\u001b[0m\u001b[0;34m)\u001b[0m\u001b[0;34m\u001b[0m\u001b[0;34m\u001b[0m\u001b[0m\n",
            "\u001b[0;32m/usr/local/lib/python3.10/dist-packages/keras/src/engine/training.py\u001b[0m in \u001b[0;36mfit\u001b[0;34m(self, x, y, batch_size, epochs, verbose, callbacks, validation_split, validation_data, shuffle, class_weight, sample_weight, initial_epoch, steps_per_epoch, validation_steps, validation_batch_size, validation_freq, max_queue_size, workers, use_multiprocessing)\u001b[0m\n\u001b[1;32m   1872\u001b[0m                     \u001b[0mepoch_logs\u001b[0m\u001b[0;34m.\u001b[0m\u001b[0mupdate\u001b[0m\u001b[0;34m(\u001b[0m\u001b[0mval_logs\u001b[0m\u001b[0;34m)\u001b[0m\u001b[0;34m\u001b[0m\u001b[0;34m\u001b[0m\u001b[0m\n\u001b[1;32m   1873\u001b[0m \u001b[0;34m\u001b[0m\u001b[0m\n\u001b[0;32m-> 1874\u001b[0;31m                 \u001b[0mcallbacks\u001b[0m\u001b[0;34m.\u001b[0m\u001b[0mon_epoch_end\u001b[0m\u001b[0;34m(\u001b[0m\u001b[0mepoch\u001b[0m\u001b[0;34m,\u001b[0m \u001b[0mepoch_logs\u001b[0m\u001b[0;34m)\u001b[0m\u001b[0;34m\u001b[0m\u001b[0;34m\u001b[0m\u001b[0m\n\u001b[0m\u001b[1;32m   1875\u001b[0m                 \u001b[0mtraining_logs\u001b[0m \u001b[0;34m=\u001b[0m \u001b[0mepoch_logs\u001b[0m\u001b[0;34m\u001b[0m\u001b[0;34m\u001b[0m\u001b[0m\n\u001b[1;32m   1876\u001b[0m                 \u001b[0;32mif\u001b[0m \u001b[0mself\u001b[0m\u001b[0;34m.\u001b[0m\u001b[0mstop_training\u001b[0m\u001b[0;34m:\u001b[0m\u001b[0;34m\u001b[0m\u001b[0;34m\u001b[0m\u001b[0m\n",
            "\u001b[0;32m/usr/local/lib/python3.10/dist-packages/keras/src/callbacks.py\u001b[0m in \u001b[0;36mon_epoch_end\u001b[0;34m(self, epoch, logs)\u001b[0m\n\u001b[1;32m    451\u001b[0m         \u001b[0mlogs\u001b[0m \u001b[0;34m=\u001b[0m \u001b[0mself\u001b[0m\u001b[0;34m.\u001b[0m\u001b[0m_process_logs\u001b[0m\u001b[0;34m(\u001b[0m\u001b[0mlogs\u001b[0m\u001b[0;34m)\u001b[0m\u001b[0;34m\u001b[0m\u001b[0;34m\u001b[0m\u001b[0m\n\u001b[1;32m    452\u001b[0m         \u001b[0;32mfor\u001b[0m \u001b[0mcallback\u001b[0m \u001b[0;32min\u001b[0m \u001b[0mself\u001b[0m\u001b[0;34m.\u001b[0m\u001b[0mcallbacks\u001b[0m\u001b[0;34m:\u001b[0m\u001b[0;34m\u001b[0m\u001b[0;34m\u001b[0m\u001b[0m\n\u001b[0;32m--> 453\u001b[0;31m             \u001b[0mcallback\u001b[0m\u001b[0;34m.\u001b[0m\u001b[0mon_epoch_end\u001b[0m\u001b[0;34m(\u001b[0m\u001b[0mepoch\u001b[0m\u001b[0;34m,\u001b[0m \u001b[0mlogs\u001b[0m\u001b[0;34m)\u001b[0m\u001b[0;34m\u001b[0m\u001b[0;34m\u001b[0m\u001b[0m\n\u001b[0m\u001b[1;32m    454\u001b[0m \u001b[0;34m\u001b[0m\u001b[0m\n\u001b[1;32m    455\u001b[0m     \u001b[0;32mdef\u001b[0m \u001b[0mon_train_batch_begin\u001b[0m\u001b[0;34m(\u001b[0m\u001b[0mself\u001b[0m\u001b[0;34m,\u001b[0m \u001b[0mbatch\u001b[0m\u001b[0;34m,\u001b[0m \u001b[0mlogs\u001b[0m\u001b[0;34m=\u001b[0m\u001b[0;32mNone\u001b[0m\u001b[0;34m)\u001b[0m\u001b[0;34m:\u001b[0m\u001b[0;34m\u001b[0m\u001b[0;34m\u001b[0m\u001b[0m\n",
            "\u001b[0;32m/usr/local/lib/python3.10/dist-packages/keras/src/callbacks.py\u001b[0m in \u001b[0;36mon_epoch_end\u001b[0;34m(self, epoch, logs)\u001b[0m\n\u001b[1;32m   1102\u001b[0m \u001b[0;34m\u001b[0m\u001b[0m\n\u001b[1;32m   1103\u001b[0m     \u001b[0;32mdef\u001b[0m \u001b[0mon_epoch_end\u001b[0m\u001b[0;34m(\u001b[0m\u001b[0mself\u001b[0m\u001b[0;34m,\u001b[0m \u001b[0mepoch\u001b[0m\u001b[0;34m,\u001b[0m \u001b[0mlogs\u001b[0m\u001b[0;34m=\u001b[0m\u001b[0;32mNone\u001b[0m\u001b[0;34m)\u001b[0m\u001b[0;34m:\u001b[0m\u001b[0;34m\u001b[0m\u001b[0;34m\u001b[0m\u001b[0m\n\u001b[0;32m-> 1104\u001b[0;31m         \u001b[0mself\u001b[0m\u001b[0;34m.\u001b[0m\u001b[0m_finalize_progbar\u001b[0m\u001b[0;34m(\u001b[0m\u001b[0mlogs\u001b[0m\u001b[0;34m,\u001b[0m \u001b[0mself\u001b[0m\u001b[0;34m.\u001b[0m\u001b[0m_train_step\u001b[0m\u001b[0;34m)\u001b[0m\u001b[0;34m\u001b[0m\u001b[0;34m\u001b[0m\u001b[0m\n\u001b[0m\u001b[1;32m   1105\u001b[0m \u001b[0;34m\u001b[0m\u001b[0m\n\u001b[1;32m   1106\u001b[0m     \u001b[0;32mdef\u001b[0m \u001b[0mon_test_end\u001b[0m\u001b[0;34m(\u001b[0m\u001b[0mself\u001b[0m\u001b[0;34m,\u001b[0m \u001b[0mlogs\u001b[0m\u001b[0;34m=\u001b[0m\u001b[0;32mNone\u001b[0m\u001b[0;34m)\u001b[0m\u001b[0;34m:\u001b[0m\u001b[0;34m\u001b[0m\u001b[0;34m\u001b[0m\u001b[0m\n",
            "\u001b[0;32m/usr/local/lib/python3.10/dist-packages/keras/src/callbacks.py\u001b[0m in \u001b[0;36m_finalize_progbar\u001b[0;34m(self, logs, counter)\u001b[0m\n\u001b[1;32m   1179\u001b[0m             \u001b[0mself\u001b[0m\u001b[0;34m.\u001b[0m\u001b[0mtarget\u001b[0m \u001b[0;34m=\u001b[0m \u001b[0mcounter\u001b[0m \u001b[0;32mor\u001b[0m \u001b[0mself\u001b[0m\u001b[0;34m.\u001b[0m\u001b[0mseen\u001b[0m\u001b[0;34m\u001b[0m\u001b[0;34m\u001b[0m\u001b[0m\n\u001b[1;32m   1180\u001b[0m             \u001b[0mself\u001b[0m\u001b[0;34m.\u001b[0m\u001b[0mprogbar\u001b[0m\u001b[0;34m.\u001b[0m\u001b[0mtarget\u001b[0m \u001b[0;34m=\u001b[0m \u001b[0mself\u001b[0m\u001b[0;34m.\u001b[0m\u001b[0mtarget\u001b[0m\u001b[0;34m\u001b[0m\u001b[0;34m\u001b[0m\u001b[0m\n\u001b[0;32m-> 1181\u001b[0;31m         \u001b[0mself\u001b[0m\u001b[0;34m.\u001b[0m\u001b[0mprogbar\u001b[0m\u001b[0;34m.\u001b[0m\u001b[0mupdate\u001b[0m\u001b[0;34m(\u001b[0m\u001b[0mself\u001b[0m\u001b[0;34m.\u001b[0m\u001b[0mtarget\u001b[0m\u001b[0;34m,\u001b[0m \u001b[0mlist\u001b[0m\u001b[0;34m(\u001b[0m\u001b[0mlogs\u001b[0m\u001b[0;34m.\u001b[0m\u001b[0mitems\u001b[0m\u001b[0;34m(\u001b[0m\u001b[0;34m)\u001b[0m\u001b[0;34m)\u001b[0m\u001b[0;34m,\u001b[0m \u001b[0mfinalize\u001b[0m\u001b[0;34m=\u001b[0m\u001b[0;32mTrue\u001b[0m\u001b[0;34m)\u001b[0m\u001b[0;34m\u001b[0m\u001b[0;34m\u001b[0m\u001b[0m\n\u001b[0m\u001b[1;32m   1182\u001b[0m \u001b[0;34m\u001b[0m\u001b[0m\n\u001b[1;32m   1183\u001b[0m \u001b[0;34m\u001b[0m\u001b[0m\n",
            "\u001b[0;32m/usr/local/lib/python3.10/dist-packages/keras/src/utils/generic_utils.py\u001b[0m in \u001b[0;36mupdate\u001b[0;34m(self, current, values, finalize)\u001b[0m\n\u001b[1;32m    294\u001b[0m \u001b[0;34m\u001b[0m\u001b[0m\n\u001b[1;32m    295\u001b[0m             \u001b[0mmessage\u001b[0m \u001b[0;34m+=\u001b[0m \u001b[0minfo\u001b[0m\u001b[0;34m\u001b[0m\u001b[0;34m\u001b[0m\u001b[0m\n\u001b[0;32m--> 296\u001b[0;31m             \u001b[0mio_utils\u001b[0m\u001b[0;34m.\u001b[0m\u001b[0mprint_msg\u001b[0m\u001b[0;34m(\u001b[0m\u001b[0mmessage\u001b[0m\u001b[0;34m,\u001b[0m \u001b[0mline_break\u001b[0m\u001b[0;34m=\u001b[0m\u001b[0;32mFalse\u001b[0m\u001b[0;34m)\u001b[0m\u001b[0;34m\u001b[0m\u001b[0;34m\u001b[0m\u001b[0m\n\u001b[0m\u001b[1;32m    297\u001b[0m             \u001b[0mmessage\u001b[0m \u001b[0;34m=\u001b[0m \u001b[0;34m\"\"\u001b[0m\u001b[0;34m\u001b[0m\u001b[0;34m\u001b[0m\u001b[0m\n\u001b[1;32m    298\u001b[0m \u001b[0;34m\u001b[0m\u001b[0m\n",
            "\u001b[0;32m/usr/local/lib/python3.10/dist-packages/keras/src/utils/io_utils.py\u001b[0m in \u001b[0;36mprint_msg\u001b[0;34m(message, line_break)\u001b[0m\n\u001b[1;32m     79\u001b[0m         \u001b[0;32melse\u001b[0m\u001b[0;34m:\u001b[0m\u001b[0;34m\u001b[0m\u001b[0;34m\u001b[0m\u001b[0m\n\u001b[1;32m     80\u001b[0m             \u001b[0msys\u001b[0m\u001b[0;34m.\u001b[0m\u001b[0mstdout\u001b[0m\u001b[0;34m.\u001b[0m\u001b[0mwrite\u001b[0m\u001b[0;34m(\u001b[0m\u001b[0mmessage\u001b[0m\u001b[0;34m)\u001b[0m\u001b[0;34m\u001b[0m\u001b[0;34m\u001b[0m\u001b[0m\n\u001b[0;32m---> 81\u001b[0;31m         \u001b[0msys\u001b[0m\u001b[0;34m.\u001b[0m\u001b[0mstdout\u001b[0m\u001b[0;34m.\u001b[0m\u001b[0mflush\u001b[0m\u001b[0;34m(\u001b[0m\u001b[0;34m)\u001b[0m\u001b[0;34m\u001b[0m\u001b[0;34m\u001b[0m\u001b[0m\n\u001b[0m\u001b[1;32m     82\u001b[0m     \u001b[0;32melse\u001b[0m\u001b[0;34m:\u001b[0m\u001b[0;34m\u001b[0m\u001b[0;34m\u001b[0m\u001b[0m\n\u001b[1;32m     83\u001b[0m         \u001b[0mlogging\u001b[0m\u001b[0;34m.\u001b[0m\u001b[0minfo\u001b[0m\u001b[0;34m(\u001b[0m\u001b[0mmessage\u001b[0m\u001b[0;34m)\u001b[0m\u001b[0;34m\u001b[0m\u001b[0;34m\u001b[0m\u001b[0m\n",
            "\u001b[0;32m/usr/local/lib/python3.10/dist-packages/ipykernel/iostream.py\u001b[0m in \u001b[0;36mflush\u001b[0;34m(self)\u001b[0m\n\u001b[1;32m    348\u001b[0m                 \u001b[0mself\u001b[0m\u001b[0;34m.\u001b[0m\u001b[0mpub_thread\u001b[0m\u001b[0;34m.\u001b[0m\u001b[0mschedule\u001b[0m\u001b[0;34m(\u001b[0m\u001b[0mevt\u001b[0m\u001b[0;34m.\u001b[0m\u001b[0mset\u001b[0m\u001b[0;34m)\u001b[0m\u001b[0;34m\u001b[0m\u001b[0;34m\u001b[0m\u001b[0m\n\u001b[1;32m    349\u001b[0m                 \u001b[0;31m# and give a timeout to avoid\u001b[0m\u001b[0;34m\u001b[0m\u001b[0;34m\u001b[0m\u001b[0m\n\u001b[0;32m--> 350\u001b[0;31m                 \u001b[0;32mif\u001b[0m \u001b[0;32mnot\u001b[0m \u001b[0mevt\u001b[0m\u001b[0;34m.\u001b[0m\u001b[0mwait\u001b[0m\u001b[0;34m(\u001b[0m\u001b[0mself\u001b[0m\u001b[0;34m.\u001b[0m\u001b[0mflush_timeout\u001b[0m\u001b[0;34m)\u001b[0m\u001b[0;34m:\u001b[0m\u001b[0;34m\u001b[0m\u001b[0;34m\u001b[0m\u001b[0m\n\u001b[0m\u001b[1;32m    351\u001b[0m                     \u001b[0;31m# write directly to __stderr__ instead of warning because\u001b[0m\u001b[0;34m\u001b[0m\u001b[0;34m\u001b[0m\u001b[0m\n\u001b[1;32m    352\u001b[0m                     \u001b[0;31m# if this is happening sys.stderr may be the problem.\u001b[0m\u001b[0;34m\u001b[0m\u001b[0;34m\u001b[0m\u001b[0m\n",
            "\u001b[0;32m/usr/lib/python3.10/threading.py\u001b[0m in \u001b[0;36mwait\u001b[0;34m(self, timeout)\u001b[0m\n\u001b[1;32m    605\u001b[0m             \u001b[0msignaled\u001b[0m \u001b[0;34m=\u001b[0m \u001b[0mself\u001b[0m\u001b[0;34m.\u001b[0m\u001b[0m_flag\u001b[0m\u001b[0;34m\u001b[0m\u001b[0;34m\u001b[0m\u001b[0m\n\u001b[1;32m    606\u001b[0m             \u001b[0;32mif\u001b[0m \u001b[0;32mnot\u001b[0m \u001b[0msignaled\u001b[0m\u001b[0;34m:\u001b[0m\u001b[0;34m\u001b[0m\u001b[0;34m\u001b[0m\u001b[0m\n\u001b[0;32m--> 607\u001b[0;31m                 \u001b[0msignaled\u001b[0m \u001b[0;34m=\u001b[0m \u001b[0mself\u001b[0m\u001b[0;34m.\u001b[0m\u001b[0m_cond\u001b[0m\u001b[0;34m.\u001b[0m\u001b[0mwait\u001b[0m\u001b[0;34m(\u001b[0m\u001b[0mtimeout\u001b[0m\u001b[0;34m)\u001b[0m\u001b[0;34m\u001b[0m\u001b[0;34m\u001b[0m\u001b[0m\n\u001b[0m\u001b[1;32m    608\u001b[0m             \u001b[0;32mreturn\u001b[0m \u001b[0msignaled\u001b[0m\u001b[0;34m\u001b[0m\u001b[0;34m\u001b[0m\u001b[0m\n\u001b[1;32m    609\u001b[0m \u001b[0;34m\u001b[0m\u001b[0m\n",
            "\u001b[0;32m/usr/lib/python3.10/threading.py\u001b[0m in \u001b[0;36mwait\u001b[0;34m(self, timeout)\u001b[0m\n\u001b[1;32m    322\u001b[0m             \u001b[0;32melse\u001b[0m\u001b[0;34m:\u001b[0m\u001b[0;34m\u001b[0m\u001b[0;34m\u001b[0m\u001b[0m\n\u001b[1;32m    323\u001b[0m                 \u001b[0;32mif\u001b[0m \u001b[0mtimeout\u001b[0m \u001b[0;34m>\u001b[0m \u001b[0;36m0\u001b[0m\u001b[0;34m:\u001b[0m\u001b[0;34m\u001b[0m\u001b[0;34m\u001b[0m\u001b[0m\n\u001b[0;32m--> 324\u001b[0;31m                     \u001b[0mgotit\u001b[0m \u001b[0;34m=\u001b[0m \u001b[0mwaiter\u001b[0m\u001b[0;34m.\u001b[0m\u001b[0macquire\u001b[0m\u001b[0;34m(\u001b[0m\u001b[0;32mTrue\u001b[0m\u001b[0;34m,\u001b[0m \u001b[0mtimeout\u001b[0m\u001b[0;34m)\u001b[0m\u001b[0;34m\u001b[0m\u001b[0;34m\u001b[0m\u001b[0m\n\u001b[0m\u001b[1;32m    325\u001b[0m                 \u001b[0;32melse\u001b[0m\u001b[0;34m:\u001b[0m\u001b[0;34m\u001b[0m\u001b[0;34m\u001b[0m\u001b[0m\n\u001b[1;32m    326\u001b[0m                     \u001b[0mgotit\u001b[0m \u001b[0;34m=\u001b[0m \u001b[0mwaiter\u001b[0m\u001b[0;34m.\u001b[0m\u001b[0macquire\u001b[0m\u001b[0;34m(\u001b[0m\u001b[0;32mFalse\u001b[0m\u001b[0;34m)\u001b[0m\u001b[0;34m\u001b[0m\u001b[0;34m\u001b[0m\u001b[0m\n",
            "\u001b[0;31mKeyboardInterrupt\u001b[0m: "
          ]
        }
      ],
      "source": [
        "# Entrenar el modelo de la tarea pretexto\n",
        "\n",
        "history= model.fit(\n",
        "     x=X_train,\n",
        "     y=y_train,\n",
        "     epochs=1000,\n",
        "     validation_data=(X_test, y_test)\n",
        "         )"
      ]
    },
    {
      "cell_type": "code",
      "execution_count": null,
      "metadata": {
        "id": "w1WxWEB4ZGma"
      },
      "outputs": [],
      "source": [
        "# En la variable \"history\" quedan guardadas todas las métricas y funciones de perdida evaluadas en cada época.\n",
        "# Podemos hacer una gráfica para cada una de ellas, primero vemos lo que podemos gráficar:\n",
        "\n",
        "\n",
        "print(history.history.keys())"
      ]
    },
    {
      "cell_type": "code",
      "execution_count": null,
      "metadata": {
        "id": "1utBnji3j3cU"
      },
      "outputs": [],
      "source": [
        "prediccion = model.predict(X)"
      ]
    },
    {
      "cell_type": "code",
      "execution_count": null,
      "metadata": {
        "id": "Vq69HvaSeEtG"
      },
      "outputs": [],
      "source": [
        "### Calcular la precisión y valor de la función de pérdida del entrenamiento del modelo de la tarea pretexto\n",
        "\n",
        "score= model.evaluate(X_test,y_test)\n",
        "print('Test loss:', score[0])\n",
        "print('Test accuracy:', score[1]) #aqui medir absolute error"
      ]
    },
    {
      "cell_type": "code",
      "execution_count": null,
      "metadata": {
        "id": "JzHmIAQTMYbA"
      },
      "outputs": [],
      "source": [
        "# # Graficar las métricas del modelo de la tarea pretexto\n",
        "\n",
        "fig, ax1 = plt.subplots(1,1,figsize=(10,5))\n",
        "ax1.tick_params(axis='y', labelcolor='blue')\n",
        "ax1.plot(history.history['loss'],'b',label='LOSS')\n",
        "ax1.plot(history.history['val_loss'],'--b',label='LOSS VAL')\n",
        "ax1.set_ylabel('Función de pérdida', color='blue')\n",
        "ax1.set_xlabel('Número de épocas', color='black')\n",
        "ax2 = ax1.twinx()\n",
        "ax2.set_ylabel('Precisión', color='red')\n",
        "ax2.plot(history.history['accuracy'],'red')\n",
        "ax2.plot(history.history['val_accuracy'],'--r')\n",
        "ax2.tick_params(axis='y', labelcolor='red')"
      ]
    },
    {
      "cell_type": "code",
      "execution_count": null,
      "metadata": {
        "id": "nctABu-DlPty"
      },
      "outputs": [],
      "source": [
        "#convertir predicciones a one hot\n",
        "\n",
        "class_pre = np.argmax(prediccion, axis =1)"
      ]
    },
    {
      "cell_type": "code",
      "execution_count": null,
      "metadata": {
        "id": "Ct9Ibg9emZma"
      },
      "outputs": [],
      "source": [
        "plt.scatter(df['E'], df['N'], c = class_pre)\n",
        "plt.colorbar()"
      ]
    },
    {
      "cell_type": "code",
      "execution_count": null,
      "metadata": {
        "id": "2XK-aQHyc7je"
      },
      "outputs": [],
      "source": [
        "# Guardar el modelo de la tarea pretexto\n",
        "\n",
        "model.save(\"/content/drive/MyDrive/Colab Notebooks/PAPER_DL/MODELOS-PRE-ENTRENADOS/modelo_pretext.h5\")"
      ]
    },
    {
      "cell_type": "code",
      "execution_count": null,
      "metadata": {
        "id": "LsblmFSlj9v7"
      },
      "outputs": [],
      "source": [
        "# Cargar el modelo preentrenado de la tarea pretexto\n",
        "model = keras.models.load_model(\"/content/drive/MyDrive/Colab Notebooks/PAPER_DL/MODELOS-PRE-ENTRENADOS/modelo_pretext.h5\")"
      ]
    },
    {
      "cell_type": "markdown",
      "source": [
        "**Segunda parte: tarea de clasificación binaria**"
      ],
      "metadata": {
        "id": "H4SReK38gnJx"
      }
    },
    {
      "cell_type": "code",
      "execution_count": null,
      "metadata": {
        "id": "kmRZMmu9j-z6"
      },
      "outputs": [],
      "source": [
        "# Imprimir resumen de la arquitectura del modelo de la tarea pretexto\n",
        "\n",
        "model.summary()"
      ]
    },
    {
      "cell_type": "code",
      "execution_count": null,
      "metadata": {
        "id": "uA7hbbLdsp5j"
      },
      "outputs": [],
      "source": [
        "# Cargar el conjunto de datos de entrenamiento con las variables de entrada - componentes principales\n",
        "\n",
        "df_yukon=pd.read_csv('/content/drive/MyDrive/Colab Notebooks/PAPER_DL/TRAINING/02_Train_PCA.csv', sep=',')"
      ]
    },
    {
      "cell_type": "code",
      "execution_count": null,
      "metadata": {
        "id": "OfbVtTwta7lD"
      },
      "outputs": [],
      "source": [
        "df_yukon"
      ]
    },
    {
      "cell_type": "code",
      "execution_count": null,
      "metadata": {
        "id": "eVKMelN1fIAg"
      },
      "outputs": [],
      "source": [
        "df_yukon.shape"
      ]
    },
    {
      "cell_type": "code",
      "execution_count": null,
      "metadata": {
        "id": "AVvOxmIZs03b"
      },
      "outputs": [],
      "source": [
        "# Extraer variables de entrada y de salida\n",
        "\n",
        "y_names_yukon=['DEP'] # Valores de salida-etiquetas de depósito (1) y no depósito (0)\n",
        "y_yukon=df_yukon[y_names_yukon].values\n",
        "\n",
        "x_names_yukon=['PC1','PC2','PC3','PC4','PC5','PC6','PC7']\n",
        "X_yukon=df_yukon[x_names_yukon].values"
      ]
    },
    {
      "cell_type": "code",
      "execution_count": null,
      "metadata": {
        "id": "_uMsGC3RkoPT"
      },
      "outputs": [],
      "source": [
        "# Crea un nuevo modelo que incluya solo las capas específicas\n",
        "\n",
        "clasifier = Model(inputs=model.input, outputs=model.layers[-2].output)"
      ]
    },
    {
      "cell_type": "code",
      "execution_count": null,
      "metadata": {
        "id": "qJ4w3koEMuw3"
      },
      "outputs": [],
      "source": [
        "# Calcular peso de cada clase y el bias inicial\n",
        "\n",
        "pos = len(y_yukon[y_yukon==1])\n",
        "neg = len(y_yukon[y_yukon==0])\n",
        "total= pos+neg\n",
        "print('pos: ', pos)\n",
        "print('neg:' , neg)\n",
        "\n",
        "weight_for_0 = (1 / neg) * (total/2 )\n",
        "weight_for_1 = (1 / pos) * (total/2)\n",
        "\n",
        "class_weight = {0: weight_for_0, 1: weight_for_1}\n",
        "\n",
        "initial_bias = np.log(pos/neg)\n",
        "print(initial_bias)\n",
        "output_bias = tf.keras.initializers.Constant(initial_bias)"
      ]
    },
    {
      "cell_type": "code",
      "execution_count": null,
      "metadata": {
        "id": "AjhkJ9pbrrBC"
      },
      "outputs": [],
      "source": [
        "# Imprimir resumen de la arquitectura del clasificador\n",
        "\n",
        "clasifier.summary()"
      ]
    },
    {
      "cell_type": "code",
      "execution_count": null,
      "metadata": {
        "id": "qhZRFntgnymR"
      },
      "outputs": [],
      "source": [
        "# Agregar la capa de salida con activación sigmode y función de activación del bias\n",
        "\n",
        "deposito = tf.keras.layers.Dense(1, activation=\"sigmoid\", bias_initializer = None, name=\"Deposito\", kernel_regularizer='l1_l2')(clasifier.layers[-1].output)\n",
        "model_classifier = Model(inputs=clasifier.input, outputs=deposito)"
      ]
    },
    {
      "cell_type": "code",
      "execution_count": null,
      "metadata": {
        "id": "m93fB9-VoiJE"
      },
      "outputs": [],
      "source": [
        "# Imprimir resumen de la arquitectura del clasificador nuevo\n",
        "\n",
        "model_classifier.summary()"
      ]
    },
    {
      "cell_type": "code",
      "execution_count": null,
      "metadata": {
        "id": "ne-zGdJ4gDP-"
      },
      "outputs": [],
      "source": [
        "# Imprimir un diagrama de grafo del modelo\n",
        "\n",
        "tf.keras.utils.plot_model(model_classifier, show_shapes=True)"
      ]
    },
    {
      "cell_type": "code",
      "execution_count": null,
      "metadata": {
        "id": "RnSurWkDgDVD"
      },
      "outputs": [],
      "source": [
        "# Indicar el optimizador usado para el backpropagation y las métricas de evaluación\n",
        "\n",
        "optimizer    = tf.keras.optimizers.Adam(learning_rate=1e-5)\n",
        "loss_fn      =  tf.keras.losses.BinaryCrossentropy() # tambien se puede indicar la función de perdida como las predeterminadas en keras"
      ]
    },
    {
      "cell_type": "code",
      "execution_count": null,
      "metadata": {
        "id": "l2nOvFqIgDYb"
      },
      "outputs": [],
      "source": [
        "# Compilar el modelo con los hiperparámetros que se definieron anteriormente\n",
        "\n",
        "model_classifier.compile(optimizer=optimizer, loss=loss_fn, metrics=['accuracy'])"
      ]
    },
    {
      "cell_type": "code",
      "execution_count": null,
      "metadata": {
        "id": "TnIu0fLAgGa2"
      },
      "outputs": [],
      "source": [
        "# Transferencia de aprendizaje. Entrenamiento del modelo clasificador que tiene lo pesos pre entrenados\n",
        "\n",
        "history= model_classifier.fit(\n",
        "    x=X_yukon,\n",
        "    y=y_yukon,\n",
        "    batch_size=82,\n",
        "    epochs=6000,\n",
        "    class_weight = class_weight\n",
        "    )"
      ]
    },
    {
      "cell_type": "code",
      "execution_count": null,
      "metadata": {
        "id": "nqWRTD4NgGdz"
      },
      "outputs": [],
      "source": [
        "# En la variable \"history\" quedan guardadas todas las métricas y funciones de perdida evaluadas en cada época.\n",
        "# Podemos hacer una gráfica para cada una de ellas, primero vemos lo que podemos gráficar:\n",
        "\n",
        "print(history.history.keys())"
      ]
    },
    {
      "cell_type": "code",
      "execution_count": null,
      "metadata": {
        "id": "s6HLIMb0dxlp"
      },
      "outputs": [],
      "source": [
        "# Guardar las métricas del modelo en formato .npz\n",
        "\n",
        "np.savez('/content/drive/MyDrive/Colab Notebooks/PAPER_DL/METRICAS-MODELOS/GPC_FT.npz', loss=history.history['loss'], acc=history.history['accuracy'])"
      ]
    },
    {
      "cell_type": "code",
      "execution_count": null,
      "metadata": {
        "id": "CB1wOuHLgGgb"
      },
      "outputs": [],
      "source": [
        "# Calcular la precisión y valor de la función de pérdida del entrenamiento\n",
        "\n",
        "score= model_classifier.evaluate(X_yukon,y_yukon)\n",
        "print('Test loss:', score[0])\n",
        "print('Test accuracy:', score[1])"
      ]
    },
    {
      "cell_type": "code",
      "execution_count": null,
      "metadata": {
        "id": "90aujY-ef7kD"
      },
      "outputs": [],
      "source": [
        "# Graficar las métricas\n",
        "\n",
        "fig, ax1 = plt.subplots(1,1,figsize=(10,5))\n",
        "ax1.tick_params(axis='y', labelcolor='blue')\n",
        "ax1.plot(history.history['loss'],'b',label='LOSS')\n",
        "ax1.set_ylabel('Función de pérdida', color='blue')\n",
        "ax1.set_xlabel('Número de épocas', color='black')\n",
        "ax2 = ax1.twinx()\n",
        "ax2.set_ylabel('Precisión', color='red')\n",
        "ax2.plot(history.history['accuracy'],'red')\n",
        "ax2.tick_params(axis='y', labelcolor='red')"
      ]
    },
    {
      "cell_type": "code",
      "execution_count": null,
      "metadata": {
        "id": "9xgTehlY4qa8"
      },
      "outputs": [],
      "source": [
        "# Predecir los datos\n",
        "\n",
        "pred_val = model_classifier.predict(X_yukon)"
      ]
    },
    {
      "cell_type": "code",
      "execution_count": null,
      "metadata": {
        "id": "V3izEjzi4qhA"
      },
      "outputs": [],
      "source": [
        "# Matriz de confusión\n",
        "\n",
        "from mlxtend.plotting import plot_confusion_matrix\n",
        "from sklearn.metrics import confusion_matrix\n",
        "import seaborn as sns\n",
        "\n",
        "matriz3 = confusion_matrix(y_yukon, np.around(pred_val))\n",
        "plot_confusion_matrix(conf_mat = matriz3, figsize = (5,5))\n",
        "\n",
        "ax = plt.subplot()\n",
        "sns.set(font_scale=1) # Adjust to fit\n",
        "sns.heatmap(matriz3, annot=True, ax=ax, cmap=\"Blues\", fmt=\"g\");\n",
        "\n",
        "# Labels, title and ticks\n",
        "label_font = {'size':'18'}  # Adjust to fit\n",
        "ax.set_xlabel('Predicted labels');\n",
        "ax.set_ylabel('True labels',fontdict=label_font);\n",
        "\n",
        "title_font = {'size':'18'}  # Adjust to fit\n",
        "ax.set_title('Confusion Matrix', fontdict=title_font);\n",
        "\n",
        "ax.tick_params(axis='both', which='major', labelsize=18)  # Adjust to fit\n",
        "ax.xaxis.set_ticklabels(['False', 'True']);\n",
        "ax.yaxis.set_ticklabels(['False', 'True']);"
      ]
    },
    {
      "cell_type": "code",
      "execution_count": null,
      "metadata": {
        "id": "q2hVE-Dt4qo_"
      },
      "outputs": [],
      "source": [
        "# Cálculo del ROC\n",
        "\n",
        "from sklearn.metrics import roc_auc_score\n",
        "from sklearn.metrics import roc_curve, auc\n",
        "\n",
        "fpr_, tpr_, thresholds_ = roc_curve(y_yukon, pred_val)\n",
        "\n",
        "plt.plot(fpr_, tpr_, marker='o')\n",
        "plt.xlabel('False Positive Rate')\n",
        "plt.ylabel('True Positive Rate')\n",
        "plt.legend()\n",
        "plt.title('ROC CURVE')\n",
        "plt.grid(True)"
      ]
    },
    {
      "cell_type": "code",
      "execution_count": null,
      "metadata": {
        "id": "TaWxQQH74uSO"
      },
      "outputs": [],
      "source": [
        "# Cálculo del AUC\n",
        "\n",
        "from sklearn import metrics\n",
        "\n",
        "print(f'El AUC para el modelo es de: {metrics.auc(fpr_, tpr_)}')"
      ]
    },
    {
      "cell_type": "code",
      "execution_count": null,
      "metadata": {
        "id": "J-tQxn4HcHly"
      },
      "outputs": [],
      "source": [
        "# Guardar el modelo clasificador entrenado\n",
        "\n",
        "model_classifier.save('/content/drive/MyDrive/Colab Notebooks/PAPER_DL/MODELOS-FINALES/pretext_fine.h5')"
      ]
    },
    {
      "cell_type": "markdown",
      "source": [
        "**Predicción**"
      ],
      "metadata": {
        "id": "h5fSt_h6hXpq"
      }
    },
    {
      "cell_type": "code",
      "execution_count": null,
      "metadata": {
        "id": "THromc1_4wgT"
      },
      "outputs": [],
      "source": [
        "# Cargar el virtual ráster que se descarga desde el link del repositorio\n",
        "\n",
        "from osgeo import gdal\n",
        "\n",
        "raster  = gdal.Open('/content/drive/MyDrive/Colab Notebooks/PAPER_DL/VIRTUAL_RASTER/02_PCA.tif')  # Esta ruta cambia según dónde se guardó el archivo del virtual ráster\n",
        "\n",
        "# Extraer las características del ráster\n",
        "\n",
        "driver = raster.GetDriver()\n",
        "col   = raster.RasterXSize #número de columnas\n",
        "rows  = raster.RasterYSize #número de filas\n",
        "nelem = col*rows #número de píxeles\n",
        "\n",
        "print('numero de filas: ', rows)\n",
        "print('numero de columnas: ', col)\n",
        "\n",
        "# Guardar las posiciones NonData del ráster. Solo se hace una vez para cualquier banda\n",
        "# ya que las posiciones de Nonvalue deben ser las mismas para todas las bandas\n",
        "\n",
        "\n",
        "Nonvalue = raster.GetRasterBand(1).GetNoDataValue()\n",
        "\n",
        "print(Nonvalue)\n",
        "\n",
        "#Extraer los valores de cada banda\n",
        "\n",
        "v1val = raster.GetRasterBand(1).ReadAsArray().flatten()\n",
        "v2val = raster.GetRasterBand(2).ReadAsArray().flatten()\n",
        "v3val = raster.GetRasterBand(3).ReadAsArray().flatten()\n",
        "v4val = raster.GetRasterBand(4).ReadAsArray().flatten()\n",
        "v5val = raster.GetRasterBand(5).ReadAsArray().flatten()\n",
        "v6val = raster.GetRasterBand(6).ReadAsArray().flatten()\n",
        "v7val = raster.GetRasterBand(7).ReadAsArray().flatten()\n",
        "\n",
        "# Agrupar los valores tal que se forme una matriz de N X 9\n",
        "# donde N es el número de muestras\n",
        "\n",
        "DATA = np.stack((v1val,v2val,v3val,v4val,v5val,v6val,v7val),axis=1)\n",
        "\n",
        "\n",
        "# Organizar los datos y eliminar las posiciones de NonData\n",
        "\n",
        "NanValues = np.where(v1val == Nonvalue)[0]\n",
        "cP        = np.arange(0,nelem)\n",
        "cPP       = np.delete(cP, NanValues, axis=0)\n",
        "\n",
        "XX = np.delete(DATA, NanValues, axis=0)"
      ]
    },
    {
      "cell_type": "code",
      "execution_count": null,
      "metadata": {
        "id": "4OdN3KGB9BE6"
      },
      "outputs": [],
      "source": [
        "# Predecir los valores con el modelo entrenado\n",
        "\n",
        "y_raster = model_classifier.predict(XX)"
      ]
    },
    {
      "cell_type": "code",
      "execution_count": null,
      "metadata": {
        "id": "J_Q8V-gS9DvR"
      },
      "outputs": [],
      "source": [
        "# Crear nuevamente el formato de datos para llevarlo al raster.\n",
        "# Usaremos una variable nueva llena de zeros, en la cual insertaremos los NonValues y los valores de la predicción.\n",
        "# el tamaño de esta variable será el mismo que el raster\n",
        "\n",
        "Rasterdataarray = np.zeros((rows,col)).flatten()\n",
        "\n",
        "# cPP contiene las posiciones donde van las predicciones\n",
        "for i in range(cPP.shape[0]):\n",
        "    Rasterdataarray[cPP[i]]=y_raster[i]\n",
        "\n",
        "# NanValues contiene las posiciones donde van los NOnValues\n",
        "for i in range(NanValues.shape[0]):\n",
        "    Rasterdataarray[NanValues[i]]=Nonvalue\n",
        "\n",
        "\n",
        "# guardar la predicción en un raster con las mismas caracteristicas del raster input\n",
        "\n",
        "Rasterout = driver.Create('/content/drive/MyDrive/Colab Notebooks/PAPER_DL/MAPA_PROBABILIDAD/04_Pretext_Fine_Tuning.tif', col, rows, 1, gdal.GDT_Float32) #esta ruta se modifica según donde desee que se guarde el mapa de probabilidad en su Google Drive\n",
        "# Write metadata\n",
        "Rasterout.SetGeoTransform(raster.GetGeoTransform())\n",
        "Rasterout.SetProjection(raster.GetProjection())\n",
        "\n",
        "Rasterout.GetRasterBand(1).WriteArray(Rasterdataarray.reshape(rows,col))\n",
        "Rasterout.GetRasterBand(1).SetNoDataValue(Nonvalue)\n",
        "Rasterout = None\n",
        "del Rasterout"
      ]
    },
    {
      "cell_type": "code",
      "execution_count": null,
      "metadata": {
        "id": "LmRdd1A49FZq"
      },
      "outputs": [],
      "source": [
        "# Visualizar el mapa final de probabilidad\n",
        "\n",
        "mask = Rasterdataarray!=-9999\n",
        "v2 = Rasterdataarray[np.where(mask)]\n",
        "v2 = v2.reshape(-1,118)\n",
        "plt.figure(figsize=(10,10))\n",
        "plt.imshow(v2,cmap='jet',vmin=0, vmax=1)\n",
        "plt.colorbar(fraction=0.04)"
      ]
    },
    {
      "cell_type": "markdown",
      "metadata": {
        "id": "H5spiUvdL1tu"
      },
      "source": [
        "# **Créditos**\n",
        "---\n",
        "\n",
        "* **Autores:**\n",
        "  * [Ana Gabriela Mantilla, Geóloga](https://www.linkedin.com/in/ana-gabriela-mantilla-24377a21a)\n",
        "  * [Paul Goyes Peñafiel, PhD (c)](https://www.linkedin.com/in/paul-goyes-0212b810/)"
      ]
    }
  ],
  "metadata": {
    "accelerator": "GPU",
    "colab": {
      "gpuType": "T4",
      "provenance": [],
      "toc_visible": true
    },
    "kernelspec": {
      "display_name": "Python 3",
      "name": "python3"
    },
    "language_info": {
      "name": "python"
    }
  },
  "nbformat": 4,
  "nbformat_minor": 0
}