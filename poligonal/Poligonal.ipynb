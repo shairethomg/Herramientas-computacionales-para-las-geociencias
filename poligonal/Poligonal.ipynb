{
  "cells": [
    {
      "cell_type": "code",
      "execution_count": 1,
      "metadata": {
        "id": "Ytgbw2yTbR0m"
      },
      "outputs": [],
      "source": [
        "# Elaborado por:\n",
        "# Paul Goyes : goyes.yesid@gmail.com\n",
        "# Ana Mantilla : anagmd2019@gmail.com"
      ]
    },
    {
      "cell_type": "code",
      "execution_count": 1,
      "metadata": {
        "id": "4CqvAkKItJkh"
      },
      "outputs": [],
      "source": [
        "import numpy as np"
      ]
    },
    {
      "cell_type": "code",
      "execution_count": 3,
      "metadata": {
        "id": "o3by6JYgbW9i"
      },
      "outputs": [],
      "source": [
        "# Definir la función mágica\n",
        "\n",
        "def az2carto(azi):\n",
        "  return -azi + 90"
      ]
    },
    {
      "cell_type": "code",
      "execution_count": 4,
      "metadata": {
        "id": "rSTAiooIbfGy"
      },
      "outputs": [],
      "source": [
        "## VARIABLES INGRESADAS O MEDIDAS\n",
        "L=30; # Longitud de la via o segmento a calcular espesor aparente\n",
        "I=38*np.pi/180; # Buzamiento de la capa \n",
        "a=az2carto(330)*np.pi/180; #Direccion BEDDING; en azimut del rumbo\n",
        "b=az2carto(60)*np.pi/180; #Direccion de la inclinacion: en azimut del buzamiento\n",
        "f=az2carto(200)*np.pi/180; #Direccion del segmento: en azimut del rumbo"
      ]
    },
    {
      "cell_type": "code",
      "execution_count": 5,
      "metadata": {
        "id": "9a8fupZnbpli"
      },
      "outputs": [],
      "source": [
        "omega=np.arctan(np.tan(I)*np.sin(abs(a-f)))*180/np.pi # Ángulo de inclinación aparente\n",
        "E=np.sin(omega*np.pi/180)*L #ESPESOR APARENTE EN EL SEGMENTO L\n",
        "L2=abs(np.cos((f-b))*L) # LONGITUD L PROYECTADA EN LA MISMA DIRECCIÓN DEL BUZAMIENTO\n",
        "E2=np.sin(I)*L2 #ESPESOR REAL"
      ]
    },
    {
      "cell_type": "code",
      "execution_count": 6,
      "metadata": {
        "colab": {
          "base_uri": "https://localhost:8080/"
        },
        "id": "UL4MMlEobyKR",
        "outputId": "cfa250ce-e450-40b8-edb2-0a0e12e75362"
      },
      "outputs": [
        {
          "data": {
            "text/plain": [
              "14.148721560469564"
            ]
          },
          "execution_count": 6,
          "metadata": {},
          "output_type": "execute_result"
        }
      ],
      "source": [
        "E2"
      ]
    },
    {
      "cell_type": "code",
      "execution_count": 7,
      "metadata": {
        "id": "lwIVDHQkb2Dx"
      },
      "outputs": [],
      "source": [
        "import pandas as pd"
      ]
    },
    {
      "cell_type": "code",
      "execution_count": 8,
      "metadata": {
        "id": "BUDpIOEycnFB"
      },
      "outputs": [],
      "source": [
        "# Definir función para el cálculo del espesor real\n",
        "\n",
        "def cal_thick(L,I,a,b,f):\n",
        "  '''\n",
        "  cal_thick: Calcular el espesor real a partir de los datos medidos en una poligonal\n",
        "  Hecho por: Paul Goyes (goyes.yesid@gmail.com) y Ana Mantilla (anagmd2019@gmail.com)\n",
        "\n",
        "  Variables de entrada\n",
        "  L:  Longitud de la via o segmento a calcular espesor aparente (metros)\n",
        "  I: Inclinación de la capa en azimut del rumbo\n",
        "  a: Direccion del bedding en azi del rumbo\n",
        "  b: Direccion del bedding en azi del buzamiento\n",
        "  f: Direccion del segmento en azi del rumbo'''\n",
        "  ######## convertir de az2carto\n",
        "  I=I*np.pi/180; \n",
        "  a=az2carto(a)*np.pi/180; #Direccion BEDDING; en azimut del rumbo\n",
        "  b=az2carto(b)*np.pi/180; #Direccion de la inclinacion: en azimut del buzamiento\n",
        "  f=az2carto(f)*np.pi/180; #Direccion del segmento: en azimut del rumbo\n",
        "  ############# calcular variables aparentes\n",
        "  omega=np.arctan(np.tan(I)*np.sin(abs(a-f)))*180/np.pi # Ángulo de inclinación aparente\n",
        "  E=np.sin(omega*np.pi/180)*L #ESPESOR APARENTE EN EL SEGMENTO L\n",
        "  # calcular variables reales\n",
        "  L2=abs(np.cos((f-b))*L) # LONGITUD L PROYECTADA EN LA MISMA DIRECCIÓN DEL BUZAMIENTO\n",
        "  E2=np.sin(I)*L2 #ESPESOR REAL\n",
        "  return E2\n"
      ]
    },
    {
      "cell_type": "code",
      "execution_count": 9,
      "metadata": {
        "colab": {
          "base_uri": "https://localhost:8080/"
        },
        "id": "BYUCOlU1dWKo",
        "outputId": "9014a7ee-64d3-49f3-f8e8-7c067ff2ce95"
      },
      "outputs": [
        {
          "name": "stdout",
          "output_type": "stream",
          "text": [
            "Help on function cal_thick in module __main__:\n",
            "\n",
            "cal_thick(L, I, a, b, f)\n",
            "    cal_thick: Calcular el espesor real a partir de los datos medidos en una poligonal\n",
            "    Hecho por: Paul Goyes (goyes.yesid@gmail.com) y Ana Mantilla (anagmd2019@gmail.com)\n",
            "    \n",
            "    Variables de entrada\n",
            "    L:  Longitud de la via o segmento a calcular espesor aparente (metros)\n",
            "    I: Inclinación de la capa en azimut del rumbo\n",
            "    a: Direccion del bedding en azi del rumbo\n",
            "    b: Direccion del bedding en azi del buzamiento\n",
            "    f: Direccion del segmento en azi del rumbo\n",
            "\n"
          ]
        }
      ],
      "source": [
        "help(cal_thick)"
      ]
    },
    {
      "cell_type": "code",
      "execution_count": 10,
      "metadata": {
        "colab": {
          "base_uri": "https://localhost:8080/"
        },
        "id": "Gr3jTcEzfUo5",
        "outputId": "c3453cb2-b8cb-41dc-c730-ce0f39a7a3f3"
      },
      "outputs": [
        {
          "data": {
            "text/plain": [
              "72.50026954747207"
            ]
          },
          "execution_count": 10,
          "metadata": {},
          "output_type": "execute_result"
        }
      ],
      "source": [
        "cal_thick(133,40,90,180,148)"
      ]
    },
    {
      "cell_type": "code",
      "execution_count": 11,
      "metadata": {
        "id": "UPiTRZneb_nS"
      },
      "outputs": [],
      "source": [
        "# Cargar el dato en formato csv\n",
        "\n",
        "df = pd.read_csv('E:\\OneDrive - UNIVERSIDAD INDUSTRIAL DE SANTANDER\\SEMESTRES\\semestre VI-SH\\CAMPO I\\POLIGONAL\\data_poligonal.csv', delimiter=';')"
      ]
    },
    {
      "cell_type": "code",
      "execution_count": 12,
      "metadata": {
        "id": "h8OZqlMYcIIy"
      },
      "outputs": [
        {
          "data": {
            "text/html": [
              "<div>\n",
              "<style scoped>\n",
              "    .dataframe tbody tr th:only-of-type {\n",
              "        vertical-align: middle;\n",
              "    }\n",
              "\n",
              "    .dataframe tbody tr th {\n",
              "        vertical-align: top;\n",
              "    }\n",
              "\n",
              "    .dataframe thead th {\n",
              "        text-align: right;\n",
              "    }\n",
              "</style>\n",
              "<table border=\"1\" class=\"dataframe\">\n",
              "  <thead>\n",
              "    <tr style=\"text-align: right;\">\n",
              "      <th></th>\n",
              "      <th>DistSegmento</th>\n",
              "      <th>Azi_Segmento</th>\n",
              "      <th>Dip_Segmento</th>\n",
              "      <th>Az_rumbo_bedding</th>\n",
              "      <th>Az_buz_bedding</th>\n",
              "      <th>dip_bedding</th>\n",
              "      <th>espesor</th>\n",
              "      <th>espesor_acum</th>\n",
              "    </tr>\n",
              "  </thead>\n",
              "  <tbody>\n",
              "    <tr>\n",
              "      <th>0</th>\n",
              "      <td>20.0</td>\n",
              "      <td>165.0</td>\n",
              "      <td>2.0</td>\n",
              "      <td>182</td>\n",
              "      <td>272</td>\n",
              "      <td>24</td>\n",
              "      <td>NaN</td>\n",
              "      <td>NaN</td>\n",
              "    </tr>\n",
              "    <tr>\n",
              "      <th>1</th>\n",
              "      <td>18.0</td>\n",
              "      <td>181.0</td>\n",
              "      <td>1.0</td>\n",
              "      <td>187</td>\n",
              "      <td>272</td>\n",
              "      <td>24</td>\n",
              "      <td>NaN</td>\n",
              "      <td>NaN</td>\n",
              "    </tr>\n",
              "    <tr>\n",
              "      <th>2</th>\n",
              "      <td>20.0</td>\n",
              "      <td>212.0</td>\n",
              "      <td>4.0</td>\n",
              "      <td>187</td>\n",
              "      <td>272</td>\n",
              "      <td>16</td>\n",
              "      <td>NaN</td>\n",
              "      <td>NaN</td>\n",
              "    </tr>\n",
              "    <tr>\n",
              "      <th>3</th>\n",
              "      <td>20.0</td>\n",
              "      <td>226.0</td>\n",
              "      <td>-3.0</td>\n",
              "      <td>0</td>\n",
              "      <td>0</td>\n",
              "      <td>0</td>\n",
              "      <td>NaN</td>\n",
              "      <td>NaN</td>\n",
              "    </tr>\n",
              "    <tr>\n",
              "      <th>4</th>\n",
              "      <td>20.0</td>\n",
              "      <td>172.0</td>\n",
              "      <td>-3.0</td>\n",
              "      <td>0</td>\n",
              "      <td>0</td>\n",
              "      <td>0</td>\n",
              "      <td>NaN</td>\n",
              "      <td>NaN</td>\n",
              "    </tr>\n",
              "    <tr>\n",
              "      <th>...</th>\n",
              "      <td>...</td>\n",
              "      <td>...</td>\n",
              "      <td>...</td>\n",
              "      <td>...</td>\n",
              "      <td>...</td>\n",
              "      <td>...</td>\n",
              "      <td>...</td>\n",
              "      <td>...</td>\n",
              "    </tr>\n",
              "    <tr>\n",
              "      <th>430</th>\n",
              "      <td>9.0</td>\n",
              "      <td>258.0</td>\n",
              "      <td>-2.0</td>\n",
              "      <td>0</td>\n",
              "      <td>0</td>\n",
              "      <td>0</td>\n",
              "      <td>NaN</td>\n",
              "      <td>NaN</td>\n",
              "    </tr>\n",
              "    <tr>\n",
              "      <th>431</th>\n",
              "      <td>9.0</td>\n",
              "      <td>235.0</td>\n",
              "      <td>-1.0</td>\n",
              "      <td>0</td>\n",
              "      <td>0</td>\n",
              "      <td>0</td>\n",
              "      <td>NaN</td>\n",
              "      <td>NaN</td>\n",
              "    </tr>\n",
              "    <tr>\n",
              "      <th>432</th>\n",
              "      <td>20.0</td>\n",
              "      <td>170.0</td>\n",
              "      <td>2.0</td>\n",
              "      <td>230</td>\n",
              "      <td>320</td>\n",
              "      <td>40</td>\n",
              "      <td>NaN</td>\n",
              "      <td>NaN</td>\n",
              "    </tr>\n",
              "    <tr>\n",
              "      <th>433</th>\n",
              "      <td>20.0</td>\n",
              "      <td>150.0</td>\n",
              "      <td>2.0</td>\n",
              "      <td>270</td>\n",
              "      <td>360</td>\n",
              "      <td>26</td>\n",
              "      <td>NaN</td>\n",
              "      <td>NaN</td>\n",
              "    </tr>\n",
              "    <tr>\n",
              "      <th>434</th>\n",
              "      <td>15.0</td>\n",
              "      <td>159.0</td>\n",
              "      <td>2.0</td>\n",
              "      <td>270</td>\n",
              "      <td>360</td>\n",
              "      <td>26</td>\n",
              "      <td>NaN</td>\n",
              "      <td>NaN</td>\n",
              "    </tr>\n",
              "  </tbody>\n",
              "</table>\n",
              "<p>435 rows × 8 columns</p>\n",
              "</div>"
            ],
            "text/plain": [
              "     DistSegmento  Azi_Segmento  Dip_Segmento  Az_rumbo_bedding  \\\n",
              "0            20.0         165.0           2.0               182   \n",
              "1            18.0         181.0           1.0               187   \n",
              "2            20.0         212.0           4.0               187   \n",
              "3            20.0         226.0          -3.0                 0   \n",
              "4            20.0         172.0          -3.0                 0   \n",
              "..            ...           ...           ...               ...   \n",
              "430           9.0         258.0          -2.0                 0   \n",
              "431           9.0         235.0          -1.0                 0   \n",
              "432          20.0         170.0           2.0               230   \n",
              "433          20.0         150.0           2.0               270   \n",
              "434          15.0         159.0           2.0               270   \n",
              "\n",
              "     Az_buz_bedding  dip_bedding  espesor  espesor_acum  \n",
              "0               272           24      NaN           NaN  \n",
              "1               272           24      NaN           NaN  \n",
              "2               272           16      NaN           NaN  \n",
              "3                 0            0      NaN           NaN  \n",
              "4                 0            0      NaN           NaN  \n",
              "..              ...          ...      ...           ...  \n",
              "430               0            0      NaN           NaN  \n",
              "431               0            0      NaN           NaN  \n",
              "432             320           40      NaN           NaN  \n",
              "433             360           26      NaN           NaN  \n",
              "434             360           26      NaN           NaN  \n",
              "\n",
              "[435 rows x 8 columns]"
            ]
          },
          "execution_count": 12,
          "metadata": {},
          "output_type": "execute_result"
        }
      ],
      "source": [
        "df"
      ]
    },
    {
      "cell_type": "code",
      "execution_count": 13,
      "metadata": {
        "id": "AtT8ApKjcIrh"
      },
      "outputs": [],
      "source": [
        "#Crear nueva columna donde se guardará el espesor real calculado\n",
        "\n",
        "df[\"espesor\"] = cal_thick(df[\"DistSegmento\"],df[\"dip_bedding\"],df[\"Az_rumbo_bedding\"],df[\"Az_buz_bedding\"],df[\"Azi_Segmento\"])"
      ]
    },
    {
      "cell_type": "code",
      "execution_count": 18,
      "metadata": {
        "colab": {
          "base_uri": "https://localhost:8080/",
          "height": 363
        },
        "id": "ivjizkBjeNLn",
        "outputId": "97decf48-2225-4ed9-fa3c-a8cf687258b2"
      },
      "outputs": [
        {
          "data": {
            "text/html": [
              "<div>\n",
              "<style scoped>\n",
              "    .dataframe tbody tr th:only-of-type {\n",
              "        vertical-align: middle;\n",
              "    }\n",
              "\n",
              "    .dataframe tbody tr th {\n",
              "        vertical-align: top;\n",
              "    }\n",
              "\n",
              "    .dataframe thead th {\n",
              "        text-align: right;\n",
              "    }\n",
              "</style>\n",
              "<table border=\"1\" class=\"dataframe\">\n",
              "  <thead>\n",
              "    <tr style=\"text-align: right;\">\n",
              "      <th></th>\n",
              "      <th>DistSegmento</th>\n",
              "      <th>Azi_Segmento</th>\n",
              "      <th>Dip_Segmento</th>\n",
              "      <th>Az_rumbo_bedding</th>\n",
              "      <th>Az_buz_bedding</th>\n",
              "      <th>dip_bedding</th>\n",
              "      <th>espesor</th>\n",
              "      <th>espesor_acum</th>\n",
              "    </tr>\n",
              "  </thead>\n",
              "  <tbody>\n",
              "    <tr>\n",
              "      <th>0</th>\n",
              "      <td>20.0</td>\n",
              "      <td>165.0</td>\n",
              "      <td>2.0</td>\n",
              "      <td>182</td>\n",
              "      <td>272</td>\n",
              "      <td>24</td>\n",
              "      <td>2.378366</td>\n",
              "      <td>NaN</td>\n",
              "    </tr>\n",
              "    <tr>\n",
              "      <th>1</th>\n",
              "      <td>18.0</td>\n",
              "      <td>181.0</td>\n",
              "      <td>1.0</td>\n",
              "      <td>187</td>\n",
              "      <td>272</td>\n",
              "      <td>24</td>\n",
              "      <td>0.127774</td>\n",
              "      <td>NaN</td>\n",
              "    </tr>\n",
              "    <tr>\n",
              "      <th>2</th>\n",
              "      <td>20.0</td>\n",
              "      <td>212.0</td>\n",
              "      <td>4.0</td>\n",
              "      <td>187</td>\n",
              "      <td>272</td>\n",
              "      <td>16</td>\n",
              "      <td>2.756374</td>\n",
              "      <td>NaN</td>\n",
              "    </tr>\n",
              "    <tr>\n",
              "      <th>3</th>\n",
              "      <td>20.0</td>\n",
              "      <td>226.0</td>\n",
              "      <td>-3.0</td>\n",
              "      <td>0</td>\n",
              "      <td>0</td>\n",
              "      <td>0</td>\n",
              "      <td>0.000000</td>\n",
              "      <td>NaN</td>\n",
              "    </tr>\n",
              "    <tr>\n",
              "      <th>4</th>\n",
              "      <td>20.0</td>\n",
              "      <td>172.0</td>\n",
              "      <td>-3.0</td>\n",
              "      <td>0</td>\n",
              "      <td>0</td>\n",
              "      <td>0</td>\n",
              "      <td>0.000000</td>\n",
              "      <td>NaN</td>\n",
              "    </tr>\n",
              "    <tr>\n",
              "      <th>...</th>\n",
              "      <td>...</td>\n",
              "      <td>...</td>\n",
              "      <td>...</td>\n",
              "      <td>...</td>\n",
              "      <td>...</td>\n",
              "      <td>...</td>\n",
              "      <td>...</td>\n",
              "      <td>...</td>\n",
              "    </tr>\n",
              "    <tr>\n",
              "      <th>430</th>\n",
              "      <td>9.0</td>\n",
              "      <td>258.0</td>\n",
              "      <td>-2.0</td>\n",
              "      <td>0</td>\n",
              "      <td>0</td>\n",
              "      <td>0</td>\n",
              "      <td>0.000000</td>\n",
              "      <td>NaN</td>\n",
              "    </tr>\n",
              "    <tr>\n",
              "      <th>431</th>\n",
              "      <td>9.0</td>\n",
              "      <td>235.0</td>\n",
              "      <td>-1.0</td>\n",
              "      <td>0</td>\n",
              "      <td>0</td>\n",
              "      <td>0</td>\n",
              "      <td>0.000000</td>\n",
              "      <td>NaN</td>\n",
              "    </tr>\n",
              "    <tr>\n",
              "      <th>432</th>\n",
              "      <td>20.0</td>\n",
              "      <td>170.0</td>\n",
              "      <td>2.0</td>\n",
              "      <td>230</td>\n",
              "      <td>320</td>\n",
              "      <td>40</td>\n",
              "      <td>11.133408</td>\n",
              "      <td>NaN</td>\n",
              "    </tr>\n",
              "    <tr>\n",
              "      <th>433</th>\n",
              "      <td>20.0</td>\n",
              "      <td>150.0</td>\n",
              "      <td>2.0</td>\n",
              "      <td>270</td>\n",
              "      <td>360</td>\n",
              "      <td>26</td>\n",
              "      <td>7.592811</td>\n",
              "      <td>NaN</td>\n",
              "    </tr>\n",
              "    <tr>\n",
              "      <th>434</th>\n",
              "      <td>15.0</td>\n",
              "      <td>159.0</td>\n",
              "      <td>2.0</td>\n",
              "      <td>270</td>\n",
              "      <td>360</td>\n",
              "      <td>26</td>\n",
              "      <td>6.138821</td>\n",
              "      <td>NaN</td>\n",
              "    </tr>\n",
              "  </tbody>\n",
              "</table>\n",
              "<p>435 rows × 8 columns</p>\n",
              "</div>"
            ],
            "text/plain": [
              "     DistSegmento  Azi_Segmento  Dip_Segmento  Az_rumbo_bedding  \\\n",
              "0            20.0         165.0           2.0               182   \n",
              "1            18.0         181.0           1.0               187   \n",
              "2            20.0         212.0           4.0               187   \n",
              "3            20.0         226.0          -3.0                 0   \n",
              "4            20.0         172.0          -3.0                 0   \n",
              "..            ...           ...           ...               ...   \n",
              "430           9.0         258.0          -2.0                 0   \n",
              "431           9.0         235.0          -1.0                 0   \n",
              "432          20.0         170.0           2.0               230   \n",
              "433          20.0         150.0           2.0               270   \n",
              "434          15.0         159.0           2.0               270   \n",
              "\n",
              "     Az_buz_bedding  dip_bedding    espesor  espesor_acum  \n",
              "0               272           24   2.378366           NaN  \n",
              "1               272           24   0.127774           NaN  \n",
              "2               272           16   2.756374           NaN  \n",
              "3                 0            0   0.000000           NaN  \n",
              "4                 0            0   0.000000           NaN  \n",
              "..              ...          ...        ...           ...  \n",
              "430               0            0   0.000000           NaN  \n",
              "431               0            0   0.000000           NaN  \n",
              "432             320           40  11.133408           NaN  \n",
              "433             360           26   7.592811           NaN  \n",
              "434             360           26   6.138821           NaN  \n",
              "\n",
              "[435 rows x 8 columns]"
            ]
          },
          "execution_count": 18,
          "metadata": {},
          "output_type": "execute_result"
        }
      ],
      "source": [
        "df"
      ]
    },
    {
      "cell_type": "code",
      "execution_count": 14,
      "metadata": {
        "id": "JUgLiscOiyxw"
      },
      "outputs": [],
      "source": [
        " # Calcular el espesor acumulado\n",
        " \n",
        " df[\"espesor_acum\"] =df[\"espesor\"].values.cumsum()"
      ]
    },
    {
      "cell_type": "code",
      "execution_count": 15,
      "metadata": {
        "colab": {
          "base_uri": "https://localhost:8080/",
          "height": 363
        },
        "id": "82vQPt7_jZ7E",
        "outputId": "51791d5e-682c-4950-a3bc-5ae94c92e78b"
      },
      "outputs": [
        {
          "data": {
            "text/html": [
              "<div>\n",
              "<style scoped>\n",
              "    .dataframe tbody tr th:only-of-type {\n",
              "        vertical-align: middle;\n",
              "    }\n",
              "\n",
              "    .dataframe tbody tr th {\n",
              "        vertical-align: top;\n",
              "    }\n",
              "\n",
              "    .dataframe thead th {\n",
              "        text-align: right;\n",
              "    }\n",
              "</style>\n",
              "<table border=\"1\" class=\"dataframe\">\n",
              "  <thead>\n",
              "    <tr style=\"text-align: right;\">\n",
              "      <th></th>\n",
              "      <th>DistSegmento</th>\n",
              "      <th>Azi_Segmento</th>\n",
              "      <th>Dip_Segmento</th>\n",
              "      <th>Az_rumbo_bedding</th>\n",
              "      <th>Az_buz_bedding</th>\n",
              "      <th>dip_bedding</th>\n",
              "      <th>espesor</th>\n",
              "      <th>espesor_acum</th>\n",
              "    </tr>\n",
              "  </thead>\n",
              "  <tbody>\n",
              "    <tr>\n",
              "      <th>0</th>\n",
              "      <td>20.0</td>\n",
              "      <td>165.0</td>\n",
              "      <td>2.0</td>\n",
              "      <td>182</td>\n",
              "      <td>272</td>\n",
              "      <td>24</td>\n",
              "      <td>2.378366</td>\n",
              "      <td>2.378366</td>\n",
              "    </tr>\n",
              "    <tr>\n",
              "      <th>1</th>\n",
              "      <td>18.0</td>\n",
              "      <td>181.0</td>\n",
              "      <td>1.0</td>\n",
              "      <td>187</td>\n",
              "      <td>272</td>\n",
              "      <td>24</td>\n",
              "      <td>0.127774</td>\n",
              "      <td>2.506139</td>\n",
              "    </tr>\n",
              "    <tr>\n",
              "      <th>2</th>\n",
              "      <td>20.0</td>\n",
              "      <td>212.0</td>\n",
              "      <td>4.0</td>\n",
              "      <td>187</td>\n",
              "      <td>272</td>\n",
              "      <td>16</td>\n",
              "      <td>2.756374</td>\n",
              "      <td>5.262513</td>\n",
              "    </tr>\n",
              "    <tr>\n",
              "      <th>3</th>\n",
              "      <td>20.0</td>\n",
              "      <td>226.0</td>\n",
              "      <td>-3.0</td>\n",
              "      <td>0</td>\n",
              "      <td>0</td>\n",
              "      <td>0</td>\n",
              "      <td>0.000000</td>\n",
              "      <td>5.262513</td>\n",
              "    </tr>\n",
              "    <tr>\n",
              "      <th>4</th>\n",
              "      <td>20.0</td>\n",
              "      <td>172.0</td>\n",
              "      <td>-3.0</td>\n",
              "      <td>0</td>\n",
              "      <td>0</td>\n",
              "      <td>0</td>\n",
              "      <td>0.000000</td>\n",
              "      <td>5.262513</td>\n",
              "    </tr>\n",
              "    <tr>\n",
              "      <th>...</th>\n",
              "      <td>...</td>\n",
              "      <td>...</td>\n",
              "      <td>...</td>\n",
              "      <td>...</td>\n",
              "      <td>...</td>\n",
              "      <td>...</td>\n",
              "      <td>...</td>\n",
              "      <td>...</td>\n",
              "    </tr>\n",
              "    <tr>\n",
              "      <th>430</th>\n",
              "      <td>9.0</td>\n",
              "      <td>258.0</td>\n",
              "      <td>-2.0</td>\n",
              "      <td>0</td>\n",
              "      <td>0</td>\n",
              "      <td>0</td>\n",
              "      <td>0.000000</td>\n",
              "      <td>994.585488</td>\n",
              "    </tr>\n",
              "    <tr>\n",
              "      <th>431</th>\n",
              "      <td>9.0</td>\n",
              "      <td>235.0</td>\n",
              "      <td>-1.0</td>\n",
              "      <td>0</td>\n",
              "      <td>0</td>\n",
              "      <td>0</td>\n",
              "      <td>0.000000</td>\n",
              "      <td>994.585488</td>\n",
              "    </tr>\n",
              "    <tr>\n",
              "      <th>432</th>\n",
              "      <td>20.0</td>\n",
              "      <td>170.0</td>\n",
              "      <td>2.0</td>\n",
              "      <td>230</td>\n",
              "      <td>320</td>\n",
              "      <td>40</td>\n",
              "      <td>11.133408</td>\n",
              "      <td>1005.718896</td>\n",
              "    </tr>\n",
              "    <tr>\n",
              "      <th>433</th>\n",
              "      <td>20.0</td>\n",
              "      <td>150.0</td>\n",
              "      <td>2.0</td>\n",
              "      <td>270</td>\n",
              "      <td>360</td>\n",
              "      <td>26</td>\n",
              "      <td>7.592811</td>\n",
              "      <td>1013.311707</td>\n",
              "    </tr>\n",
              "    <tr>\n",
              "      <th>434</th>\n",
              "      <td>15.0</td>\n",
              "      <td>159.0</td>\n",
              "      <td>2.0</td>\n",
              "      <td>270</td>\n",
              "      <td>360</td>\n",
              "      <td>26</td>\n",
              "      <td>6.138821</td>\n",
              "      <td>1019.450528</td>\n",
              "    </tr>\n",
              "  </tbody>\n",
              "</table>\n",
              "<p>435 rows × 8 columns</p>\n",
              "</div>"
            ],
            "text/plain": [
              "     DistSegmento  Azi_Segmento  Dip_Segmento  Az_rumbo_bedding  \\\n",
              "0            20.0         165.0           2.0               182   \n",
              "1            18.0         181.0           1.0               187   \n",
              "2            20.0         212.0           4.0               187   \n",
              "3            20.0         226.0          -3.0                 0   \n",
              "4            20.0         172.0          -3.0                 0   \n",
              "..            ...           ...           ...               ...   \n",
              "430           9.0         258.0          -2.0                 0   \n",
              "431           9.0         235.0          -1.0                 0   \n",
              "432          20.0         170.0           2.0               230   \n",
              "433          20.0         150.0           2.0               270   \n",
              "434          15.0         159.0           2.0               270   \n",
              "\n",
              "     Az_buz_bedding  dip_bedding    espesor  espesor_acum  \n",
              "0               272           24   2.378366      2.378366  \n",
              "1               272           24   0.127774      2.506139  \n",
              "2               272           16   2.756374      5.262513  \n",
              "3                 0            0   0.000000      5.262513  \n",
              "4                 0            0   0.000000      5.262513  \n",
              "..              ...          ...        ...           ...  \n",
              "430               0            0   0.000000    994.585488  \n",
              "431               0            0   0.000000    994.585488  \n",
              "432             320           40  11.133408   1005.718896  \n",
              "433             360           26   7.592811   1013.311707  \n",
              "434             360           26   6.138821   1019.450528  \n",
              "\n",
              "[435 rows x 8 columns]"
            ]
          },
          "execution_count": 15,
          "metadata": {},
          "output_type": "execute_result"
        }
      ],
      "source": [
        "df"
      ]
    },
    {
      "cell_type": "code",
      "execution_count": 16,
      "metadata": {
        "id": "k9EdOEr9eOhh"
      },
      "outputs": [
        {
          "ename": "OSError",
          "evalue": "[Errno 22] Invalid argument: 'E:\\\\OneDrive - UNIVERSIDAD INDUSTRIAL DE SANTANDER\\\\SEMESTRES\\\\semestre VI-SH\\\\CAMPO I\\\\POLIGONAL\\resultados.csv'",
          "output_type": "error",
          "traceback": [
            "\u001b[1;31m---------------------------------------------------------------------------\u001b[0m",
            "\u001b[1;31mOSError\u001b[0m                                   Traceback (most recent call last)",
            "Cell \u001b[1;32mIn[16], line 3\u001b[0m\n\u001b[0;32m      1\u001b[0m \u001b[38;5;66;03m#Exportar datos calculados\u001b[39;00m\n\u001b[1;32m----> 3\u001b[0m pol \u001b[38;5;241m=\u001b[39m \u001b[43mdf\u001b[49m\u001b[38;5;241;43m.\u001b[39;49m\u001b[43mto_csv\u001b[49m\u001b[43m(\u001b[49m\u001b[38;5;124;43m'\u001b[39;49m\u001b[38;5;124;43mE:\u001b[39;49m\u001b[38;5;124;43m\\\u001b[39;49m\u001b[38;5;124;43mOneDrive - UNIVERSIDAD INDUSTRIAL DE SANTANDER\u001b[39;49m\u001b[38;5;124;43m\\\u001b[39;49m\u001b[38;5;124;43mSEMESTRES\u001b[39;49m\u001b[38;5;124;43m\\\u001b[39;49m\u001b[38;5;124;43msemestre VI-SH\u001b[39;49m\u001b[38;5;124;43m\\\u001b[39;49m\u001b[38;5;124;43mCAMPO I\u001b[39;49m\u001b[38;5;124;43m\\\u001b[39;49m\u001b[38;5;124;43mPOLIGONAL\u001b[39;49m\u001b[38;5;130;43;01m\\r\u001b[39;49;00m\u001b[38;5;124;43mesultados.csv\u001b[39;49m\u001b[38;5;124;43m'\u001b[39;49m\u001b[43m)\u001b[49m\n",
            "File \u001b[1;32mc:\\Users\\USUARIO\\AppData\\Local\\Programs\\Python\\Python311\\Lib\\site-packages\\pandas\\core\\generic.py:3772\u001b[0m, in \u001b[0;36mNDFrame.to_csv\u001b[1;34m(self, path_or_buf, sep, na_rep, float_format, columns, header, index, index_label, mode, encoding, compression, quoting, quotechar, lineterminator, chunksize, date_format, doublequote, escapechar, decimal, errors, storage_options)\u001b[0m\n\u001b[0;32m   3761\u001b[0m df \u001b[38;5;241m=\u001b[39m \u001b[38;5;28mself\u001b[39m \u001b[38;5;28;01mif\u001b[39;00m \u001b[38;5;28misinstance\u001b[39m(\u001b[38;5;28mself\u001b[39m, ABCDataFrame) \u001b[38;5;28;01melse\u001b[39;00m \u001b[38;5;28mself\u001b[39m\u001b[38;5;241m.\u001b[39mto_frame()\n\u001b[0;32m   3763\u001b[0m formatter \u001b[38;5;241m=\u001b[39m DataFrameFormatter(\n\u001b[0;32m   3764\u001b[0m     frame\u001b[38;5;241m=\u001b[39mdf,\n\u001b[0;32m   3765\u001b[0m     header\u001b[38;5;241m=\u001b[39mheader,\n\u001b[1;32m   (...)\u001b[0m\n\u001b[0;32m   3769\u001b[0m     decimal\u001b[38;5;241m=\u001b[39mdecimal,\n\u001b[0;32m   3770\u001b[0m )\n\u001b[1;32m-> 3772\u001b[0m \u001b[38;5;28;01mreturn\u001b[39;00m \u001b[43mDataFrameRenderer\u001b[49m\u001b[43m(\u001b[49m\u001b[43mformatter\u001b[49m\u001b[43m)\u001b[49m\u001b[38;5;241;43m.\u001b[39;49m\u001b[43mto_csv\u001b[49m\u001b[43m(\u001b[49m\n\u001b[0;32m   3773\u001b[0m \u001b[43m    \u001b[49m\u001b[43mpath_or_buf\u001b[49m\u001b[43m,\u001b[49m\n\u001b[0;32m   3774\u001b[0m \u001b[43m    \u001b[49m\u001b[43mlineterminator\u001b[49m\u001b[38;5;241;43m=\u001b[39;49m\u001b[43mlineterminator\u001b[49m\u001b[43m,\u001b[49m\n\u001b[0;32m   3775\u001b[0m \u001b[43m    \u001b[49m\u001b[43msep\u001b[49m\u001b[38;5;241;43m=\u001b[39;49m\u001b[43msep\u001b[49m\u001b[43m,\u001b[49m\n\u001b[0;32m   3776\u001b[0m \u001b[43m    \u001b[49m\u001b[43mencoding\u001b[49m\u001b[38;5;241;43m=\u001b[39;49m\u001b[43mencoding\u001b[49m\u001b[43m,\u001b[49m\n\u001b[0;32m   3777\u001b[0m \u001b[43m    \u001b[49m\u001b[43merrors\u001b[49m\u001b[38;5;241;43m=\u001b[39;49m\u001b[43merrors\u001b[49m\u001b[43m,\u001b[49m\n\u001b[0;32m   3778\u001b[0m \u001b[43m    \u001b[49m\u001b[43mcompression\u001b[49m\u001b[38;5;241;43m=\u001b[39;49m\u001b[43mcompression\u001b[49m\u001b[43m,\u001b[49m\n\u001b[0;32m   3779\u001b[0m \u001b[43m    \u001b[49m\u001b[43mquoting\u001b[49m\u001b[38;5;241;43m=\u001b[39;49m\u001b[43mquoting\u001b[49m\u001b[43m,\u001b[49m\n\u001b[0;32m   3780\u001b[0m \u001b[43m    \u001b[49m\u001b[43mcolumns\u001b[49m\u001b[38;5;241;43m=\u001b[39;49m\u001b[43mcolumns\u001b[49m\u001b[43m,\u001b[49m\n\u001b[0;32m   3781\u001b[0m \u001b[43m    \u001b[49m\u001b[43mindex_label\u001b[49m\u001b[38;5;241;43m=\u001b[39;49m\u001b[43mindex_label\u001b[49m\u001b[43m,\u001b[49m\n\u001b[0;32m   3782\u001b[0m \u001b[43m    \u001b[49m\u001b[43mmode\u001b[49m\u001b[38;5;241;43m=\u001b[39;49m\u001b[43mmode\u001b[49m\u001b[43m,\u001b[49m\n\u001b[0;32m   3783\u001b[0m \u001b[43m    \u001b[49m\u001b[43mchunksize\u001b[49m\u001b[38;5;241;43m=\u001b[39;49m\u001b[43mchunksize\u001b[49m\u001b[43m,\u001b[49m\n\u001b[0;32m   3784\u001b[0m \u001b[43m    \u001b[49m\u001b[43mquotechar\u001b[49m\u001b[38;5;241;43m=\u001b[39;49m\u001b[43mquotechar\u001b[49m\u001b[43m,\u001b[49m\n\u001b[0;32m   3785\u001b[0m \u001b[43m    \u001b[49m\u001b[43mdate_format\u001b[49m\u001b[38;5;241;43m=\u001b[39;49m\u001b[43mdate_format\u001b[49m\u001b[43m,\u001b[49m\n\u001b[0;32m   3786\u001b[0m \u001b[43m    \u001b[49m\u001b[43mdoublequote\u001b[49m\u001b[38;5;241;43m=\u001b[39;49m\u001b[43mdoublequote\u001b[49m\u001b[43m,\u001b[49m\n\u001b[0;32m   3787\u001b[0m \u001b[43m    \u001b[49m\u001b[43mescapechar\u001b[49m\u001b[38;5;241;43m=\u001b[39;49m\u001b[43mescapechar\u001b[49m\u001b[43m,\u001b[49m\n\u001b[0;32m   3788\u001b[0m \u001b[43m    \u001b[49m\u001b[43mstorage_options\u001b[49m\u001b[38;5;241;43m=\u001b[39;49m\u001b[43mstorage_options\u001b[49m\u001b[43m,\u001b[49m\n\u001b[0;32m   3789\u001b[0m \u001b[43m\u001b[49m\u001b[43m)\u001b[49m\n",
            "File \u001b[1;32mc:\\Users\\USUARIO\\AppData\\Local\\Programs\\Python\\Python311\\Lib\\site-packages\\pandas\\io\\formats\\format.py:1186\u001b[0m, in \u001b[0;36mDataFrameRenderer.to_csv\u001b[1;34m(self, path_or_buf, encoding, sep, columns, index_label, mode, compression, quoting, quotechar, lineterminator, chunksize, date_format, doublequote, escapechar, errors, storage_options)\u001b[0m\n\u001b[0;32m   1165\u001b[0m     created_buffer \u001b[38;5;241m=\u001b[39m \u001b[38;5;28;01mFalse\u001b[39;00m\n\u001b[0;32m   1167\u001b[0m csv_formatter \u001b[38;5;241m=\u001b[39m CSVFormatter(\n\u001b[0;32m   1168\u001b[0m     path_or_buf\u001b[38;5;241m=\u001b[39mpath_or_buf,\n\u001b[0;32m   1169\u001b[0m     lineterminator\u001b[38;5;241m=\u001b[39mlineterminator,\n\u001b[1;32m   (...)\u001b[0m\n\u001b[0;32m   1184\u001b[0m     formatter\u001b[38;5;241m=\u001b[39m\u001b[38;5;28mself\u001b[39m\u001b[38;5;241m.\u001b[39mfmt,\n\u001b[0;32m   1185\u001b[0m )\n\u001b[1;32m-> 1186\u001b[0m \u001b[43mcsv_formatter\u001b[49m\u001b[38;5;241;43m.\u001b[39;49m\u001b[43msave\u001b[49m\u001b[43m(\u001b[49m\u001b[43m)\u001b[49m\n\u001b[0;32m   1188\u001b[0m \u001b[38;5;28;01mif\u001b[39;00m created_buffer:\n\u001b[0;32m   1189\u001b[0m     \u001b[38;5;28;01massert\u001b[39;00m \u001b[38;5;28misinstance\u001b[39m(path_or_buf, StringIO)\n",
            "File \u001b[1;32mc:\\Users\\USUARIO\\AppData\\Local\\Programs\\Python\\Python311\\Lib\\site-packages\\pandas\\io\\formats\\csvs.py:240\u001b[0m, in \u001b[0;36mCSVFormatter.save\u001b[1;34m(self)\u001b[0m\n\u001b[0;32m    236\u001b[0m \u001b[38;5;250m\u001b[39m\u001b[38;5;124;03m\"\"\"\u001b[39;00m\n\u001b[0;32m    237\u001b[0m \u001b[38;5;124;03mCreate the writer & save.\u001b[39;00m\n\u001b[0;32m    238\u001b[0m \u001b[38;5;124;03m\"\"\"\u001b[39;00m\n\u001b[0;32m    239\u001b[0m \u001b[38;5;66;03m# apply compression and byte/text conversion\u001b[39;00m\n\u001b[1;32m--> 240\u001b[0m \u001b[38;5;28;01mwith\u001b[39;00m \u001b[43mget_handle\u001b[49m\u001b[43m(\u001b[49m\n\u001b[0;32m    241\u001b[0m \u001b[43m    \u001b[49m\u001b[38;5;28;43mself\u001b[39;49m\u001b[38;5;241;43m.\u001b[39;49m\u001b[43mfilepath_or_buffer\u001b[49m\u001b[43m,\u001b[49m\n\u001b[0;32m    242\u001b[0m \u001b[43m    \u001b[49m\u001b[38;5;28;43mself\u001b[39;49m\u001b[38;5;241;43m.\u001b[39;49m\u001b[43mmode\u001b[49m\u001b[43m,\u001b[49m\n\u001b[0;32m    243\u001b[0m \u001b[43m    \u001b[49m\u001b[43mencoding\u001b[49m\u001b[38;5;241;43m=\u001b[39;49m\u001b[38;5;28;43mself\u001b[39;49m\u001b[38;5;241;43m.\u001b[39;49m\u001b[43mencoding\u001b[49m\u001b[43m,\u001b[49m\n\u001b[0;32m    244\u001b[0m \u001b[43m    \u001b[49m\u001b[43merrors\u001b[49m\u001b[38;5;241;43m=\u001b[39;49m\u001b[38;5;28;43mself\u001b[39;49m\u001b[38;5;241;43m.\u001b[39;49m\u001b[43merrors\u001b[49m\u001b[43m,\u001b[49m\n\u001b[0;32m    245\u001b[0m \u001b[43m    \u001b[49m\u001b[43mcompression\u001b[49m\u001b[38;5;241;43m=\u001b[39;49m\u001b[38;5;28;43mself\u001b[39;49m\u001b[38;5;241;43m.\u001b[39;49m\u001b[43mcompression\u001b[49m\u001b[43m,\u001b[49m\n\u001b[0;32m    246\u001b[0m \u001b[43m    \u001b[49m\u001b[43mstorage_options\u001b[49m\u001b[38;5;241;43m=\u001b[39;49m\u001b[38;5;28;43mself\u001b[39;49m\u001b[38;5;241;43m.\u001b[39;49m\u001b[43mstorage_options\u001b[49m\u001b[43m,\u001b[49m\n\u001b[0;32m    247\u001b[0m \u001b[43m\u001b[49m\u001b[43m)\u001b[49m \u001b[38;5;28;01mas\u001b[39;00m handles:\n\u001b[0;32m    248\u001b[0m     \u001b[38;5;66;03m# Note: self.encoding is irrelevant here\u001b[39;00m\n\u001b[0;32m    249\u001b[0m     \u001b[38;5;28mself\u001b[39m\u001b[38;5;241m.\u001b[39mwriter \u001b[38;5;241m=\u001b[39m csvlib\u001b[38;5;241m.\u001b[39mwriter(\n\u001b[0;32m    250\u001b[0m         handles\u001b[38;5;241m.\u001b[39mhandle,\n\u001b[0;32m    251\u001b[0m         lineterminator\u001b[38;5;241m=\u001b[39m\u001b[38;5;28mself\u001b[39m\u001b[38;5;241m.\u001b[39mlineterminator,\n\u001b[1;32m   (...)\u001b[0m\n\u001b[0;32m    256\u001b[0m         quotechar\u001b[38;5;241m=\u001b[39m\u001b[38;5;28mself\u001b[39m\u001b[38;5;241m.\u001b[39mquotechar,\n\u001b[0;32m    257\u001b[0m     )\n\u001b[0;32m    259\u001b[0m     \u001b[38;5;28mself\u001b[39m\u001b[38;5;241m.\u001b[39m_save()\n",
            "File \u001b[1;32mc:\\Users\\USUARIO\\AppData\\Local\\Programs\\Python\\Python311\\Lib\\site-packages\\pandas\\io\\common.py:859\u001b[0m, in \u001b[0;36mget_handle\u001b[1;34m(path_or_buf, mode, encoding, compression, memory_map, is_text, errors, storage_options)\u001b[0m\n\u001b[0;32m    854\u001b[0m \u001b[38;5;28;01melif\u001b[39;00m \u001b[38;5;28misinstance\u001b[39m(handle, \u001b[38;5;28mstr\u001b[39m):\n\u001b[0;32m    855\u001b[0m     \u001b[38;5;66;03m# Check whether the filename is to be opened in binary mode.\u001b[39;00m\n\u001b[0;32m    856\u001b[0m     \u001b[38;5;66;03m# Binary mode does not support 'encoding' and 'newline'.\u001b[39;00m\n\u001b[0;32m    857\u001b[0m     \u001b[38;5;28;01mif\u001b[39;00m ioargs\u001b[38;5;241m.\u001b[39mencoding \u001b[38;5;129;01mand\u001b[39;00m \u001b[38;5;124m\"\u001b[39m\u001b[38;5;124mb\u001b[39m\u001b[38;5;124m\"\u001b[39m \u001b[38;5;129;01mnot\u001b[39;00m \u001b[38;5;129;01min\u001b[39;00m ioargs\u001b[38;5;241m.\u001b[39mmode:\n\u001b[0;32m    858\u001b[0m         \u001b[38;5;66;03m# Encoding\u001b[39;00m\n\u001b[1;32m--> 859\u001b[0m         handle \u001b[38;5;241m=\u001b[39m \u001b[38;5;28;43mopen\u001b[39;49m\u001b[43m(\u001b[49m\n\u001b[0;32m    860\u001b[0m \u001b[43m            \u001b[49m\u001b[43mhandle\u001b[49m\u001b[43m,\u001b[49m\n\u001b[0;32m    861\u001b[0m \u001b[43m            \u001b[49m\u001b[43mioargs\u001b[49m\u001b[38;5;241;43m.\u001b[39;49m\u001b[43mmode\u001b[49m\u001b[43m,\u001b[49m\n\u001b[0;32m    862\u001b[0m \u001b[43m            \u001b[49m\u001b[43mencoding\u001b[49m\u001b[38;5;241;43m=\u001b[39;49m\u001b[43mioargs\u001b[49m\u001b[38;5;241;43m.\u001b[39;49m\u001b[43mencoding\u001b[49m\u001b[43m,\u001b[49m\n\u001b[0;32m    863\u001b[0m \u001b[43m            \u001b[49m\u001b[43merrors\u001b[49m\u001b[38;5;241;43m=\u001b[39;49m\u001b[43merrors\u001b[49m\u001b[43m,\u001b[49m\n\u001b[0;32m    864\u001b[0m \u001b[43m            \u001b[49m\u001b[43mnewline\u001b[49m\u001b[38;5;241;43m=\u001b[39;49m\u001b[38;5;124;43m\"\u001b[39;49m\u001b[38;5;124;43m\"\u001b[39;49m\u001b[43m,\u001b[49m\n\u001b[0;32m    865\u001b[0m \u001b[43m        \u001b[49m\u001b[43m)\u001b[49m\n\u001b[0;32m    866\u001b[0m     \u001b[38;5;28;01melse\u001b[39;00m:\n\u001b[0;32m    867\u001b[0m         \u001b[38;5;66;03m# Binary mode\u001b[39;00m\n\u001b[0;32m    868\u001b[0m         handle \u001b[38;5;241m=\u001b[39m \u001b[38;5;28mopen\u001b[39m(handle, ioargs\u001b[38;5;241m.\u001b[39mmode)\n",
            "\u001b[1;31mOSError\u001b[0m: [Errno 22] Invalid argument: 'E:\\\\OneDrive - UNIVERSIDAD INDUSTRIAL DE SANTANDER\\\\SEMESTRES\\\\semestre VI-SH\\\\CAMPO I\\\\POLIGONAL\\resultados.csv'"
          ]
        }
      ],
      "source": [
        "#Exportar datos calculados\n",
        "\n",
        "pol = df.to_csv('E:\\OneDrive - UNIVERSIDAD INDUSTRIAL DE SANTANDER\\SEMESTRES\\semestre VI-SH\\CAMPO I\\POLIGONAL\\resultados.csv')"
      ]
    }
  ],
  "metadata": {
    "colab": {
      "collapsed_sections": [],
      "provenance": []
    },
    "kernelspec": {
      "display_name": "Python 3",
      "name": "python3"
    },
    "language_info": {
      "codemirror_mode": {
        "name": "ipython",
        "version": 3
      },
      "file_extension": ".py",
      "mimetype": "text/x-python",
      "name": "python",
      "nbconvert_exporter": "python",
      "pygments_lexer": "ipython3",
      "version": "3.12.0"
    }
  },
  "nbformat": 4,
  "nbformat_minor": 0
}
