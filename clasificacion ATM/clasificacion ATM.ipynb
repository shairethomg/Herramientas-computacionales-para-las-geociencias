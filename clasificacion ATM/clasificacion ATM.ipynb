{
 "cells": [
  {
   "cell_type": "code",
   "execution_count": 1,
   "metadata": {},
   "outputs": [
    {
     "name": "stdout",
     "output_type": "stream",
     "text": [
      "Requirement already satisfied: ipywidgets in c:\\users\\usuario\\appdata\\local\\programs\\python\\python311\\lib\\site-packages (8.1.2)\n",
      "Requirement already satisfied: comm>=0.1.3 in c:\\users\\usuario\\appdata\\roaming\\python\\python311\\site-packages (from ipywidgets) (0.2.0)\n",
      "Requirement already satisfied: ipython>=6.1.0 in c:\\users\\usuario\\appdata\\roaming\\python\\python311\\site-packages (from ipywidgets) (8.17.2)\n",
      "Requirement already satisfied: traitlets>=4.3.1 in c:\\users\\usuario\\appdata\\roaming\\python\\python311\\site-packages (from ipywidgets) (5.13.0)\n",
      "Requirement already satisfied: widgetsnbextension~=4.0.10 in c:\\users\\usuario\\appdata\\local\\programs\\python\\python311\\lib\\site-packages (from ipywidgets) (4.0.10)\n",
      "Requirement already satisfied: jupyterlab-widgets~=3.0.10 in c:\\users\\usuario\\appdata\\local\\programs\\python\\python311\\lib\\site-packages (from ipywidgets) (3.0.10)\n",
      "Requirement already satisfied: decorator in c:\\users\\usuario\\appdata\\roaming\\python\\python311\\site-packages (from ipython>=6.1.0->ipywidgets) (5.1.1)\n",
      "Requirement already satisfied: jedi>=0.16 in c:\\users\\usuario\\appdata\\roaming\\python\\python311\\site-packages (from ipython>=6.1.0->ipywidgets) (0.19.1)\n",
      "Requirement already satisfied: matplotlib-inline in c:\\users\\usuario\\appdata\\roaming\\python\\python311\\site-packages (from ipython>=6.1.0->ipywidgets) (0.1.6)\n",
      "Requirement already satisfied: prompt-toolkit!=3.0.37,<3.1.0,>=3.0.30 in c:\\users\\usuario\\appdata\\roaming\\python\\python311\\site-packages (from ipython>=6.1.0->ipywidgets) (3.0.41)\n",
      "Requirement already satisfied: pygments>=2.4.0 in c:\\users\\usuario\\appdata\\roaming\\python\\python311\\site-packages (from ipython>=6.1.0->ipywidgets) (2.17.2)\n",
      "Requirement already satisfied: stack-data in c:\\users\\usuario\\appdata\\roaming\\python\\python311\\site-packages (from ipython>=6.1.0->ipywidgets) (0.6.3)\n",
      "Requirement already satisfied: colorama in c:\\users\\usuario\\appdata\\local\\programs\\python\\python311\\lib\\site-packages (from ipython>=6.1.0->ipywidgets) (0.4.6)\n",
      "Requirement already satisfied: parso<0.9.0,>=0.8.3 in c:\\users\\usuario\\appdata\\roaming\\python\\python311\\site-packages (from jedi>=0.16->ipython>=6.1.0->ipywidgets) (0.8.3)\n",
      "Requirement already satisfied: wcwidth in c:\\users\\usuario\\appdata\\roaming\\python\\python311\\site-packages (from prompt-toolkit!=3.0.37,<3.1.0,>=3.0.30->ipython>=6.1.0->ipywidgets) (0.2.12)\n",
      "Requirement already satisfied: executing>=1.2.0 in c:\\users\\usuario\\appdata\\roaming\\python\\python311\\site-packages (from stack-data->ipython>=6.1.0->ipywidgets) (2.0.1)\n",
      "Requirement already satisfied: asttokens>=2.1.0 in c:\\users\\usuario\\appdata\\roaming\\python\\python311\\site-packages (from stack-data->ipython>=6.1.0->ipywidgets) (2.4.1)\n",
      "Requirement already satisfied: pure-eval in c:\\users\\usuario\\appdata\\roaming\\python\\python311\\site-packages (from stack-data->ipython>=6.1.0->ipywidgets) (0.2.2)\n",
      "Requirement already satisfied: six>=1.12.0 in c:\\users\\usuario\\appdata\\local\\programs\\python\\python311\\lib\\site-packages (from asttokens>=2.1.0->stack-data->ipython>=6.1.0->ipywidgets) (1.16.0)\n"
     ]
    },
    {
     "name": "stderr",
     "output_type": "stream",
     "text": [
      "\n",
      "[notice] A new release of pip is available: 24.0 -> 24.1.2\n",
      "[notice] To update, run: python.exe -m pip install --upgrade pip\n"
     ]
    }
   ],
   "source": [
    "!pip install ipywidgets"
   ]
  },
  {
   "cell_type": "code",
   "execution_count": 2,
   "metadata": {},
   "outputs": [],
   "source": [
    "import ipywidgets as widgets\n",
    "from IPython.display import display\n",
    "import math"
   ]
  },
  {
   "cell_type": "code",
   "execution_count": 6,
   "metadata": {},
   "outputs": [],
   "source": [
    "def clasificacion(grava,arena,finos,cu,cc,ip,LL):\n",
    "    if finos < 50:\n",
    "        if grava > arena:\n",
    "            if finos > 12:\n",
    "                if ip < (0.73 * (LL - 20)) or ip > 7:\n",
    "                    a = \"GC\"\n",
    "                    if arena < 15:\n",
    "                        b = \"GRAVA ARCILLOSA\"\n",
    "                    else:\n",
    "                        b = \"GRAVA ARCILLOSA CON ARENA\"\n",
    "                elif ip < (0.73 * (LL - 20)) or ip < 4:\n",
    "                    a = \"GM\"\n",
    "                    if arena < 15:\n",
    "                        b = \"GRAVA LIMOSA\"\n",
    "                    else:\n",
    "                        b = \"GRAVA LIMOSA CON ARENA\"\n",
    "                elif ip > 4 and ip < 7:\n",
    "                    a = \"GC-GM\"\n",
    "                    if arena < 15:\n",
    "                        b = \"GRAVA LIMO-ARCILLOSA\"\n",
    "                    else:\n",
    "                        b = \"GRAVA LIMO-ARCILLOSA CON ARENA\"\n",
    "            elif finos < 5:\n",
    "                if cu >= 4 and (cc < 3 or cc > 1):\n",
    "                    a = \"GW\"\n",
    "                    if arena < 15:\n",
    "                        b = \"GRAVA BIEN GRADUADA\"\n",
    "                    else:\n",
    "                        b = \"GRAVA BIEN GRADUADA CON ARENA\"\n",
    "                else:\n",
    "                    a = \"GP\"\n",
    "                    if arena < 15:\n",
    "                        b = \"GRAVA MAL GRADUADA\"\n",
    "                    else:\n",
    "                        b = \"GRAVA MAL GRADUADA CON ARENA\"\n",
    "            else:\n",
    "                if cu >= 4 and (cc >= 1 and cc <= 3):\n",
    "                    if ip < (0.73 * (LL - 20)) or ip < 4:\n",
    "                        a = \"GW-GM\"\n",
    "                        if arena < 15:\n",
    "                            b = \"GRAVA BIEN GRADUADA CON LIMO\"\n",
    "                        else:\n",
    "                            b = \"GRAVA BIEN GRADUADA CON LIMO Y ARENA\"\n",
    "                    else:\n",
    "                        a = \"GW-GC\"\n",
    "                        if arena < 15:\n",
    "                            b = \"GRAVA BIEN GRADUADA CON ARCILLA\"\n",
    "                        else:\n",
    "                            b = \"GRAVA BIEN GRADUADA CON ARCILLA Y ARENA\"\n",
    "                elif cu < 4 or (cc < 1 or cc > 3):\n",
    "                    if ip < (0.73 * (LL - 20)) or ip < 4:\n",
    "                        a = \"GP-GM\"\n",
    "                        if arena < 15:\n",
    "                            b = \"GRAVA MAL GRADUADA CON LIMO\"\n",
    "                        else:\n",
    "                            b = \"GRAVA MAL GRADUADA CON LIMO Y ARENA\"\n",
    "                    else:\n",
    "                        a = \"GP-GC\"\n",
    "                        if arena < 15:\n",
    "                            b = \"GRAVA MAL GRADUADA CON ARCILLA\"\n",
    "                        else:\n",
    "                            b = \"GRAVA MAL GRADUADA CON ARCILLA Y ARENA\"\n",
    "        else:\n",
    "            b = \"ARENA\"\n",
    "            if finos > 12:\n",
    "                if ip > (0.73 * (LL - 20)) and ip > 7:\n",
    "                    a = \"SC\"\n",
    "                    if grava < 15:\n",
    "                        b = \"ARENA ARCILLOSA\"\n",
    "                    else:\n",
    "                        b = \"ARENA ARCILLOSA CON GRAVA\"\n",
    "                elif ip < (0.73 * (LL - 20)) or ip < 4:\n",
    "                    a = \"SM\"\n",
    "                    if grava < 15:\n",
    "                        b = \"ARENA LIMOSA\"\n",
    "                    else:\n",
    "                        b = \"ARENA LIMOSA CON GRAVA\"\n",
    "                elif ip > 4 and ip < 7:\n",
    "                    a = \"SC-SM\"\n",
    "                    if grava < 15:\n",
    "                        b = \"ARENA LIMO-ARCILLOSA\"\n",
    "                    else:\n",
    "                        b = \"ARENA LIMO-ARCILLOSA CON GRAVA\"\n",
    "            elif finos < 5:\n",
    "                if cu >= 6 and (cc < 3 or cc > 1):\n",
    "                    a = \"SW\"\n",
    "                    if grava < 15:\n",
    "                        b = \"ARENA BIEN GRADUADA\"\n",
    "                    else:\n",
    "                        b = \"ARENA BIEN GRADUADA CON GRAVA\"\n",
    "                else:\n",
    "                    a = \"SP\"\n",
    "                    if grava < 15:\n",
    "                        b = \"ARENA MAL GRADUADA\"\n",
    "                    else:\n",
    "                        b = \"ARENA MAL GRADUADA CON GRAVA\"\n",
    "            else:\n",
    "                if cu >= 6 and (cc >= 1 and cc <= 3):\n",
    "                    if ip < (0.73 * (LL - 20)) or ip < 4:\n",
    "                        a = \"SW-SM\"\n",
    "                        if grava < 15:\n",
    "                            b = \"ARENA BIEN GRADUADA CON LIMO\"\n",
    "                        else:\n",
    "                            b = \"ARENA BIEN GRADUADA CON LIMO Y GRAVA\"\n",
    "                    elif ip > (0.73 * (LL - 20)) or ip > 7:\n",
    "                        a = \"SW-SC\"\n",
    "                        if grava < 15:\n",
    "                            b = \"ARENA BIEN GRADUADA CON ARCILLA\"\n",
    "                        else:\n",
    "                            b = \"ARENA BIEN GRADUADA CON ARCILLA Y GRAVA\"\n",
    "                else:\n",
    "                    if ip < (0.73 * (LL - 20)) or ip < 4:\n",
    "                        a = \"SP-SM\"\n",
    "                        if grava < 15:\n",
    "                            b = \"ARENA MAL GRADUADA CON LIMO\"\n",
    "                        else:\n",
    "                            b = \"ARENA MAL GRADUADA CON LIMO Y GRAVA\"\n",
    "                    elif ip > (0.73 * (LL - 20)) or ip > 7:\n",
    "                        a = \"SP-SC\"\n",
    "                        if grava < 15:\n",
    "                            b = \"ARENA MAL GRADUADA CON ARCILLA\"\n",
    "                        else:\n",
    "                            b = \"ARENA MAL GRADUADA CON ARCILLA Y GRAVA\"\n",
    "    else:\n",
    "        if LL < 50:\n",
    "            if ip > 7 and ip > (0.73 * (LL - 20)):\n",
    "                a = \"CL\"\n",
    "                if (100 - finos) < 30:\n",
    "                    if (100 - finos) < 15:\n",
    "                        b = \"ARCILLA LIGERA\"\n",
    "                    else:\n",
    "                        if arena >= grava:\n",
    "                            b = \"ARCILLA LIGERA CON ARENA\"\n",
    "                        else:\n",
    "                            b = \"ARCILLA LIGERA CON GRAVA\"\n",
    "                else:\n",
    "                    if arena > grava:\n",
    "                        if grava < 15:\n",
    "                            b = \"ARCILLA LIGERA ARENOSA\"\n",
    "                        else:\n",
    "                            b = \"ARCILLA LIGERA ARENOSA CON GRAVA\"\n",
    "                    else:\n",
    "                        if grava < 15:\n",
    "                            b = \"ARCILLA LIGERA Y TIPO GRAVA\"\n",
    "                        else:\n",
    "                            b = \"ARCILLA LIGERA Y TIPO GRAVA CON ARENA\"\n",
    "            elif ip < 4 or ip < (0.73 * (LL - 20)):\n",
    "                a = \"ML\"\n",
    "                if (100 - finos) < 30:\n",
    "                    if (100 - finos) < 15:\n",
    "                        b = \"LIMO\"\n",
    "                    else:\n",
    "                        if arena >= grava:\n",
    "                            b = \"LIMO CON ARENA\"\n",
    "                        else:\n",
    "                            b = \"LIMO CON GRAVA\"\n",
    "                else:\n",
    "                    if arena >= grava:\n",
    "                        if grava <= 15:\n",
    "                            b = \"LIMO ARENOSO\"\n",
    "                        elif grava > 15:\n",
    "                            b = \"LIMO ARENOSO CON GRAVA\"\n",
    "                    else:\n",
    "                        if arena <= 15:\n",
    "                            b = \"LIMO Y TIPO GRAVA\"\n",
    "                        elif arena > 15:\n",
    "                            b = \"LIMO Y TIPO GRAVA CON ARENA\"\n",
    "            else:\n",
    "                a = \"CL-ML\"\n",
    "                if (100 - finos) < 30:\n",
    "                    if (100 - finos) < 15:\n",
    "                        b = \"ARCILLA LIMOSA\"\n",
    "                    else:\n",
    "                        if arena > grava:\n",
    "                            b = \"ARCILLA LIMOSA CON ARENA\"\n",
    "                        else:\n",
    "                            b = \"ARCILLA LIMOSA CON GRAVA\"\n",
    "                else:\n",
    "                    if arena > grava:\n",
    "                        if grava < 15:\n",
    "                            b = \"ARCILLA LIMO-ARENOSA\"\n",
    "                        elif grava >= 15:\n",
    "                            b = \"ARCILLA LIMO-ARENOSA CON GRAVA\"\n",
    "                    else:\n",
    "                        if arena < 15:\n",
    "                            b = \"ARCILLA LIMOSA Y TIPO GRAVA\"\n",
    "                        elif arena >= 15:\n",
    "                            b = \"ARCILLA LIMOSA Y TIPO GRAVA CON ARENA\"\n",
    "        else:\n",
    "            if ip >= (0.73 * (LL - 20)):\n",
    "                a = \"CH\"\n",
    "                if (100 - finos) < 30:\n",
    "                    if (100 - finos) < 15:\n",
    "                        b = \"ARCILLA DENSA\"\n",
    "                    else:\n",
    "                        if arena >= grava:\n",
    "                            b = \"ARCILLA DENSA CON ARENA\"\n",
    "                        elif arena < grava:\n",
    "                            b = \"ARCILLA DENSA CON GRAVA\"\n",
    "                else:\n",
    "                    if arena >= grava and grava < 15:\n",
    "                        b = \"ARCILLA DENSA ARENOSA\"\n",
    "                    elif arena >= grava and grava >= 15:\n",
    "                        b = \"ARCILLA DENSA ARENOSA CON GRAVA\"\n",
    "                    elif arena < grava and arena < 15:\n",
    "                        b = \"ARCILLA DENSA Y TIPO GRAVA\"\n",
    "                    elif arena < grava and arena >= 15:\n",
    "                        b = \"ARCILLA DENSA Y TIPO GRAVA CON ARENA\"\n",
    "            else:\n",
    "                a = \"MH\"\n",
    "                if (100 - finos) < 30:\n",
    "                    if (100 - finos) < 15:\n",
    "                        b = \"LIMO ELASTICO\"\n",
    "                    else:\n",
    "                        if arena >= grava:\n",
    "                            b = \"LIMO ELÁSTICO CON ARENA\"\n",
    "                        elif arena < grava:\n",
    "                            b = \"LIMO ELÁSTICO CON GRAVA\"\n",
    "                else:\n",
    "                    if arena >= grava and grava < 15:\n",
    "                        b = \"LIMO ELÁSTICO ARENOSO\"\n",
    "                    elif arena >= grava and grava >= 15:\n",
    "                        b = \"LIMO ELÁSTICO ARENOSO CON GRAVA\"\n",
    "                    elif arena < grava and arena < 15:\n",
    "                        b = \"LIMO ELÁSTICO Y TIPO GRAVA\"\n",
    "                    elif arena < grava and arena >= 15:\n",
    "                        b = \"LIMO ELÁSTICO Y TIPO GRAVA ARENOSO\"\n",
    "    return [a, b]\n",
    "\n",
    "\n"
   ]
  },
  {
   "cell_type": "code",
   "execution_count": 4,
   "metadata": {},
   "outputs": [],
   "source": [
    "def comp_s(grava, arena, finos, cu, cc, ip, LL):\n",
    "    a = clasificacion(float(grava), float(arena), float(finos), float(cu), float(cc), float(ip), float(LL))\n",
    "    return a[0], a[1]\n"
   ]
  },
  {
   "cell_type": "code",
   "execution_count": 5,
   "metadata": {},
   "outputs": [
    {
     "data": {
      "application/vnd.jupyter.widget-view+json": {
       "model_id": "e6e5152812c4460f8316dcd5417e036a",
       "version_major": 2,
       "version_minor": 0
      },
      "text/plain": [
       "FloatText(value=0.0, description='Grava %:')"
      ]
     },
     "metadata": {},
     "output_type": "display_data"
    },
    {
     "data": {
      "application/vnd.jupyter.widget-view+json": {
       "model_id": "72a89617b4e6441c9adce8980faf63f5",
       "version_major": 2,
       "version_minor": 0
      },
      "text/plain": [
       "FloatText(value=14.0, description='Arena %:')"
      ]
     },
     "metadata": {},
     "output_type": "display_data"
    },
    {
     "data": {
      "application/vnd.jupyter.widget-view+json": {
       "model_id": "9fdc0bd956124a0c8fad6c3db9cbfa43",
       "version_major": 2,
       "version_minor": 0
      },
      "text/plain": [
       "FloatText(value=86.0, description='Finos %:')"
      ]
     },
     "metadata": {},
     "output_type": "display_data"
    },
    {
     "data": {
      "application/vnd.jupyter.widget-view+json": {
       "model_id": "862bcb3ff5734b18a520632a54c08bc2",
       "version_major": 2,
       "version_minor": 0
      },
      "text/plain": [
       "FloatText(value=0.0, description='Cu:')"
      ]
     },
     "metadata": {},
     "output_type": "display_data"
    },
    {
     "data": {
      "application/vnd.jupyter.widget-view+json": {
       "model_id": "91f06643c5d340908761fc6cfeca8db8",
       "version_major": 2,
       "version_minor": 0
      },
      "text/plain": [
       "FloatText(value=0.0, description='Cc:')"
      ]
     },
     "metadata": {},
     "output_type": "display_data"
    },
    {
     "data": {
      "application/vnd.jupyter.widget-view+json": {
       "model_id": "fcd76ee44c25410da04cf154857c41de",
       "version_major": 2,
       "version_minor": 0
      },
      "text/plain": [
       "FloatText(value=28.0, description='IP:')"
      ]
     },
     "metadata": {},
     "output_type": "display_data"
    },
    {
     "data": {
      "application/vnd.jupyter.widget-view+json": {
       "model_id": "b705472f259444399a592c0b679bf367",
       "version_major": 2,
       "version_minor": 0
      },
      "text/plain": [
       "FloatText(value=55.0, description='LL:')"
      ]
     },
     "metadata": {},
     "output_type": "display_data"
    },
    {
     "data": {
      "application/vnd.jupyter.widget-view+json": {
       "model_id": "555dc382ec9b4973928c2b369b60924d",
       "version_major": 2,
       "version_minor": 0
      },
      "text/plain": [
       "Button(description='Clasificar', style=ButtonStyle())"
      ]
     },
     "metadata": {},
     "output_type": "display_data"
    },
    {
     "data": {
      "application/vnd.jupyter.widget-view+json": {
       "model_id": "ef6fec21780f4d6d93221ce29d34f6e6",
       "version_major": 2,
       "version_minor": 0
      },
      "text/plain": [
       "Output()"
      ]
     },
     "metadata": {},
     "output_type": "display_data"
    }
   ],
   "source": [
    "# Creating widgets\n",
    "grava = widgets.FloatText(value=0, description='Grava %:')\n",
    "arena = widgets.FloatText(value=14, description='Arena %:')\n",
    "finos = widgets.FloatText(value=86, description='Finos %:')\n",
    "cu = widgets.FloatText(value=0, description='Cu:')\n",
    "cc = widgets.FloatText(value=0, description='Cc:')\n",
    "ip = widgets.FloatText(value=28, description='IP:')\n",
    "LL = widgets.FloatText(value=55, description='LL:')\n",
    "button = widgets.Button(description='Clasificar')\n",
    "output = widgets.Output()\n",
    "\n",
    "def on_button_clicked(b):\n",
    "    with output:\n",
    "        output.clear_output()\n",
    "        clas, desc = comp_s(grava.value, arena.value, finos.value, cu.value, cc.value, ip.value, LL.value)\n",
    "        print(f'Clasificación: {clas}')\n",
    "        print(f'Descripción: {desc}')\n",
    "\n",
    "button.on_click(on_button_clicked)\n",
    "\n",
    "display(grava, arena, finos, cu, cc, ip, LL, button, output)\n"
   ]
  }
 ],
 "metadata": {
  "kernelspec": {
   "display_name": "Python 3",
   "language": "python",
   "name": "python3"
  },
  "language_info": {
   "codemirror_mode": {
    "name": "ipython",
    "version": 3
   },
   "file_extension": ".py",
   "mimetype": "text/x-python",
   "name": "python",
   "nbconvert_exporter": "python",
   "pygments_lexer": "ipython3",
   "version": "3.11.4"
  }
 },
 "nbformat": 4,
 "nbformat_minor": 2
}
